{
  "nbformat": 4,
  "nbformat_minor": 0,
  "metadata": {
    "colab": {
      "name": "DQN_project_MVA.ipynb",
      "version": "0.3.2",
      "provenance": [],
      "collapsed_sections": []
    },
    "kernelspec": {
      "name": "python3",
      "display_name": "Python 3"
    },
    "accelerator": "TPU"
  },
  "cells": [
    {
      "metadata": {
        "id": "10uqvawn_25Z",
        "colab_type": "text"
      },
      "cell_type": "markdown",
      "source": [
        "**You may need to install [OpenCV](https://pypi.python.org/pypi/opencv-python) and [scikit-video](http://www.scikit-video.org/stable/).**"
      ]
    },
    {
      "metadata": {
        "id": "g_TGWmgB_25b",
        "colab_type": "code",
        "outputId": "7255825f-2865-4327-e94d-3f8a3f5c56dd",
        "colab": {
          "base_uri": "https://localhost:8080/",
          "height": 134
        }
      },
      "cell_type": "code",
      "source": [
        "!pip install scikit-video\n",
        "!pip install opencv-python\n",
        "import keras\n",
        "import numpy as np\n",
        "import io\n",
        "import base64\n",
        "from IPython.display import HTML\n",
        "import skvideo.io\n",
        "import cv2\n",
        "import json\n",
        "\n",
        "from keras.models import Sequential,model_from_json\n",
        "from keras.layers.core import Dense\n",
        "from keras.optimizers import sgd\n",
        "from keras.layers import Conv2D, MaxPooling2D, Activation, AveragePooling2D,Reshape,BatchNormalization,Flatten,Dropout"
      ],
      "execution_count": 28,
      "outputs": [
        {
          "output_type": "stream",
          "text": [
            "Requirement already satisfied: scikit-video in /usr/local/lib/python3.6/dist-packages (1.1.11)\n",
            "Requirement already satisfied: numpy in /usr/local/lib/python3.6/dist-packages (from scikit-video) (1.14.6)\n",
            "Requirement already satisfied: pillow in /usr/local/lib/python3.6/dist-packages (from scikit-video) (4.0.0)\n",
            "Requirement already satisfied: scipy in /usr/local/lib/python3.6/dist-packages (from scikit-video) (1.1.0)\n",
            "Requirement already satisfied: olefile in /usr/local/lib/python3.6/dist-packages (from pillow->scikit-video) (0.46)\n",
            "Requirement already satisfied: opencv-python in /usr/local/lib/python3.6/dist-packages (3.4.5.20)\n",
            "Requirement already satisfied: numpy>=1.11.3 in /usr/local/lib/python3.6/dist-packages (from opencv-python) (1.14.6)\n"
          ],
          "name": "stdout"
        }
      ]
    },
    {
      "metadata": {
        "id": "OA1mY-4w_25i",
        "colab_type": "text"
      },
      "cell_type": "markdown",
      "source": [
        "# MiniProject #3: Deep Reinforcement Learning"
      ]
    },
    {
      "metadata": {
        "id": "tORpMx9P_25k",
        "colab_type": "text"
      },
      "cell_type": "markdown",
      "source": [
        "__Notations__: $E_p$ is the expectation under probability $p$. Please justify each of your answer and widely comment your code."
      ]
    },
    {
      "metadata": {
        "id": "TDXmZgI4_25l",
        "colab_type": "text"
      },
      "cell_type": "markdown",
      "source": [
        "# Context"
      ]
    },
    {
      "metadata": {
        "id": "GYO3__kO_25m",
        "colab_type": "text"
      },
      "cell_type": "markdown",
      "source": [
        "In a reinforcement learning algorithm, we modelize each step $t$ as an action $a_t$ obtained from a state $s_t$, i.e. $\\{(a_{t},s_{t})_{t\\leq T}\\}$ having the Markov property. We consider a discount factor $\\gamma \\in [0,1]$ that ensures convergence. The goal is to find among all the policies $\\pi$, one that maximizes the expected reward:\n",
        "\n",
        "\\begin{equation*}\n",
        "R(\\pi)=\\sum_{t\\leq T}E_{p^{\\pi}}[\\gamma^t r(s_{t},a_{t})] \\> ,\n",
        "\\end{equation*}\n",
        "\n",
        "where: \n",
        "\\begin{equation*}p^{\\pi}(a_{0},a_{1},s_{1},...,a_{T},s_{T})=p(a_{0})\\prod_{t=1}^{T}\\pi(a_{t}|s_{t})p(s_{t+1}|s_{t},a_{t}) \\> .\n",
        "\\end{equation*}\n",
        "\n",
        "We note the $Q$-function:\n",
        "\n",
        "\\begin{equation*}Q^\\pi(s,a)=E_{p^{\\pi}}[\\sum_{t\\leq T}\\gamma^{t}r(s_{t},a_{t})|s_{0}=s,a_{0}=a] \\> .\n",
        "\\end{equation*}\n",
        "\n",
        "Thus, the optimal Q function is:\n",
        "\\begin{equation*}\n",
        "Q^*(s,a)=\\max_{\\pi}Q^\\pi(s,a) \\> .\n",
        "\\end{equation*}\n",
        "\n",
        "In this project, we will apply the deep reinforcement learning techniques to a simple game: an agent will have to learn from scratch a policy that will permit it maximizing a reward."
      ]
    },
    {
      "metadata": {
        "id": "BMM0ieZB_25o",
        "colab_type": "text"
      },
      "cell_type": "markdown",
      "source": [
        "## The environment, the agent and the game"
      ]
    },
    {
      "metadata": {
        "id": "wo4zCdV4_25p",
        "colab_type": "text"
      },
      "cell_type": "markdown",
      "source": [
        "### The environment"
      ]
    },
    {
      "metadata": {
        "id": "y6QvpgcL_25r",
        "colab_type": "text"
      },
      "cell_type": "markdown",
      "source": [
        "```Environment``` is an abstract class that represents the states, rewards, and actions to obtain the new state."
      ]
    },
    {
      "metadata": {
        "id": "It7RW2qT_25s",
        "colab_type": "code",
        "colab": {}
      },
      "cell_type": "code",
      "source": [
        "class Environment(object):\n",
        "    def __init__(self):\n",
        "        pass\n",
        "\n",
        "    def act(self, act):\n",
        "        \"\"\"\n",
        "        One can act on the environment and obtain its reaction:\n",
        "        - the new state\n",
        "        - the reward of the new state\n",
        "        - should we continue the game?\n",
        "\n",
        "        :return: state, reward, game_over\n",
        "        \"\"\"\n",
        "        pass\n",
        "\n",
        "\n",
        "    def reset(self):\n",
        "        \"\"\"\n",
        "        Reinitialize the environment to a random state and returns\n",
        "        the original state\n",
        "\n",
        "        :return: state\n",
        "        \"\"\"\n",
        "        pass\n",
        "    \n",
        "    def draw(self):\n",
        "        \"\"\"\n",
        "        Visualize in the console or graphically the current state\n",
        "        \"\"\"\n",
        "        pass"
      ],
      "execution_count": 0,
      "outputs": []
    },
    {
      "metadata": {
        "id": "0XW-Q3Fz_25w",
        "colab_type": "text"
      },
      "cell_type": "markdown",
      "source": [
        "The method ```act``` allows to act on the environment at a given state $s_t$ (stored internally), via action $a_t$. The method will return the new state $s_{t+1}$, the reward $r(s_{t},a_{t})$ and determines if $t\\leq T$ (*game_over*).\n",
        "\n",
        "The method ```reset``` simply reinitializes the environment to a random state $s_0$.\n",
        "\n",
        "The method ```draw``` displays the current state $s_t$ (this is useful to check the behavior of the Agent).\n",
        "\n",
        "We modelize $s_t$ as a tensor, while $a_t$ is an integer."
      ]
    },
    {
      "metadata": {
        "id": "UCKHJBbB_25y",
        "colab_type": "text"
      },
      "cell_type": "markdown",
      "source": [
        "### The Agent"
      ]
    },
    {
      "metadata": {
        "id": "jbOrMoRJ_250",
        "colab_type": "text"
      },
      "cell_type": "markdown",
      "source": [
        "The goal of the ```Agent``` is to interact with the ```Environment``` by proposing actions $a_t$ obtained from a given state $s_t$ to attempt to maximize its __reward__ $r(s_t,a_t)$. We propose the following abstract class:"
      ]
    },
    {
      "metadata": {
        "id": "2Crh9wna_252",
        "colab_type": "code",
        "colab": {}
      },
      "cell_type": "code",
      "source": [
        "class Agent(object):\n",
        "    def __init__(self, epsilon=0.1, n_action=4):\n",
        "        self.epsilon = epsilon\n",
        "        self.n_action = n_action\n",
        "    \n",
        "    def set_epsilon(self,e):\n",
        "        self.epsilon = e\n",
        "\n",
        "    def act(self,s,train=True):\n",
        "        \"\"\" This function should return the next action to do:\n",
        "        an integer between 0 and 4 (not included) with a random exploration of epsilon\"\"\"\n",
        "        if train:\n",
        "            if np.random.rand() <= self.epsilon:\n",
        "                a = np.random.randint(0, self.n_action, size=1)[0]\n",
        "            else:\n",
        "                a = self.learned_act(s)\n",
        "        else: # in some cases, this can improve the performance.. remove it if poor performances\n",
        "            a = self.learned_act(s)\n",
        "\n",
        "        return a\n",
        "\n",
        "    def learned_act(self,s):\n",
        "        \"\"\" Act via the policy of the agent, from a given state s\n",
        "        it proposes an action a\"\"\"\n",
        "        pass\n",
        "\n",
        "    def reinforce(self, s, n_s, a, r, game_over_):\n",
        "        \"\"\" This function is the core of the learning algorithm. \n",
        "        It takes as an input the current state s_, the next state n_s_\n",
        "        the action a_ used to move from s_ to n_s_ and the reward r_.\n",
        "        \n",
        "        Its goal is to learn a policy.\n",
        "        \"\"\"\n",
        "        pass\n",
        "\n",
        "    def save(self):\n",
        "        \"\"\" This function returns basic stats if applicable: the\n",
        "        loss and/or the model\"\"\"\n",
        "        pass\n",
        "\n",
        "    def load(self):\n",
        "        \"\"\" This function allows to restore a model\"\"\"\n",
        "        pass"
      ],
      "execution_count": 0,
      "outputs": []
    },
    {
      "metadata": {
        "id": "puJ7xZy1_258",
        "colab_type": "text"
      },
      "cell_type": "markdown",
      "source": [
        "***\n",
        "__Question 1__:\n",
        "Explain the function act. Why is ```epsilon``` essential?"
      ]
    },
    {
      "metadata": {
        "id": "nOTk9hPy_25_",
        "colab_type": "text"
      },
      "cell_type": "markdown",
      "source": [
        "The function act returns what action the agent will perform based on the current state.  The epsilon parameter allows to control the exploration. This is the $\\epsilon$-greedy strategy. The epsilon parameter is essential: If epsilon = 0, then we will follow the action based on what we have learned only ie the strategy with the best reward till now. Setting a non zero epsilon allows the agent to explore new strategies."
      ]
    },
    {
      "metadata": {
        "id": "WZsqMshd_26B",
        "colab_type": "text"
      },
      "cell_type": "markdown",
      "source": [
        "***\n",
        "### The Game"
      ]
    },
    {
      "metadata": {
        "id": "xh07a5S0_26D",
        "colab_type": "text"
      },
      "cell_type": "markdown",
      "source": [
        "The ```Agent``` and the ```Environment``` work in an interlaced way as in the following (take some time to understand this code as it is the core of the project)\n",
        "\n",
        "```python\n",
        "\n",
        "epoch = 300\n",
        "env = Environment()\n",
        "agent = Agent()\n",
        "\n",
        "\n",
        "# Number of won games\n",
        "score = 0\n",
        "loss = 0\n",
        "\n",
        "\n",
        "for e in range(epoch):\n",
        "    # At each epoch, we restart to a fresh game and get the initial state\n",
        "    state = env.reset()\n",
        "    # This assumes that the games will end\n",
        "    game_over = False\n",
        "\n",
        "    win = 0\n",
        "    lose = 0\n",
        "    \n",
        "    while not game_over:\n",
        "        # The agent performs an action\n",
        "        action = agent.act(state)\n",
        "\n",
        "        # Apply an action to the environment, get the next state, the reward\n",
        "        # and if the games end\n",
        "        prev_state = state\n",
        "        state, reward, game_over = env.act(action)\n",
        "\n",
        "        # Update the counters\n",
        "        if reward > 0:\n",
        "            win = win + reward\n",
        "        if reward < 0:\n",
        "            lose = lose -reward\n",
        "\n",
        "        # Apply the reinforcement strategy\n",
        "        loss = agent.reinforce(prev_state, state,  action, reward, game_over)\n",
        "\n",
        "    # Save as a mp4\n",
        "    if e % 10 == 0:\n",
        "        env.draw(e)\n",
        "\n",
        "    # Update stats\n",
        "    score += win-lose\n",
        "\n",
        "    print(\"Epoch {:03d}/{:03d} | Loss {:.4f} | Win/lose count {}/{} ({})\"\n",
        "          .format(e, epoch, loss, win, lose, win-lose))\n",
        "    agent.save()\n",
        "```"
      ]
    },
    {
      "metadata": {
        "id": "Yp_zaTQa_26G",
        "colab_type": "text"
      },
      "cell_type": "markdown",
      "source": [
        "# The game, *eat cheese*"
      ]
    },
    {
      "metadata": {
        "id": "7ROGp70__26I",
        "colab_type": "text"
      },
      "cell_type": "markdown",
      "source": [
        "A rat runs on an island and tries to eat as much as possible. The island is subdivided into $N\\times N$ cells, in which there are cheese (+0.5) and poisonous cells (-1). The rat has a visibility of 2 cells (thus it can see $5^2$ cells). The rat is given a time $T$ to accumulate as much food as possible. It can perform 4 actions: going up, down, left, right. \n",
        "\n",
        "The goal is to code an agent to solve this task that will learn by trial and error. We propose the following environment:"
      ]
    },
    {
      "metadata": {
        "id": "ZpsQnOsr_26K",
        "colab_type": "code",
        "colab": {}
      },
      "cell_type": "code",
      "source": [
        "class Environment(object):\n",
        "    def __init__(self, grid_size=10, max_time=500, temperature=0.1):\n",
        "        grid_size = grid_size+4\n",
        "        self.grid_size = grid_size\n",
        "        self.max_time = max_time\n",
        "        self.temperature = temperature\n",
        "\n",
        "        #board on which one plays\n",
        "        self.board = np.zeros((grid_size,grid_size))\n",
        "        self.position = np.zeros((grid_size,grid_size))\n",
        "\n",
        "        # coordinate of the cat\n",
        "        self.x = 0\n",
        "        self.y = 1\n",
        "\n",
        "        # self time\n",
        "        self.t = 0\n",
        "\n",
        "        self.scale=16\n",
        "\n",
        "        self.to_draw = np.zeros((max_time+2, grid_size*self.scale, grid_size*self.scale, 3))\n",
        "\n",
        "\n",
        "    def draw(self,e):\n",
        "        skvideo.io.vwrite(str(e) + '.mp4', self.to_draw)\n",
        "\n",
        "    def get_frame(self,t):\n",
        "        b = np.zeros((self.grid_size,self.grid_size,3))+128\n",
        "        b[self.board>0,0] = 256\n",
        "        b[self.board < 0, 2] = 256\n",
        "        b[self.x,self.y,:]=256\n",
        "        b[-2:,:,:]=0\n",
        "        b[:,-2:,:]=0\n",
        "        b[:2,:,:]=0\n",
        "        b[:,:2,:]=0\n",
        "        \n",
        "        b =  cv2.resize(b, None, fx=self.scale, fy=self.scale, interpolation=cv2.INTER_NEAREST)\n",
        "\n",
        "        self.to_draw[t,:,:,:]=b\n",
        "\n",
        "\n",
        "    def act(self, action):\n",
        "        \"\"\"This function returns the new state, reward and decides if the\n",
        "        game ends.\"\"\"\n",
        "\n",
        "        self.get_frame(int(self.t))\n",
        "\n",
        "        self.position = np.zeros((self.grid_size, self.grid_size))\n",
        "\n",
        "        self.position[0:2,:]= -1\n",
        "        self.position[:,0:2] = -1\n",
        "        self.position[-2:, :] = -1\n",
        "        self.position[-2:, :] = -1\n",
        "\n",
        "        self.position[self.x, self.y] = 1\n",
        "        if action == 0:\n",
        "            if self.x == self.grid_size-3:\n",
        "                self.x = self.x-1\n",
        "            else:\n",
        "                self.x = self.x + 1\n",
        "        elif action == 1:\n",
        "            if self.x == 2:\n",
        "                self.x = self.x+1\n",
        "            else:\n",
        "                self.x = self.x-1\n",
        "        elif action == 2:\n",
        "            if self.y == self.grid_size - 3:\n",
        "                self.y = self.y - 1\n",
        "            else:\n",
        "                self.y = self.y + 1\n",
        "        elif action == 3:\n",
        "            if self.y == 2:\n",
        "                self.y = self.y + 1\n",
        "            else:\n",
        "                self.y = self.y - 1\n",
        "        else:\n",
        "            RuntimeError('Error: action not recognized')\n",
        "\n",
        "        self.t = self.t + 1\n",
        "        reward = self.board[self.x, self.y]\n",
        "        self.board[self.x, self.y] = 0\n",
        "        game_over = self.t > self.max_time\n",
        "        state = np.concatenate((self.board.reshape(self.grid_size, self.grid_size,1),\n",
        "                        self.position.reshape(self.grid_size, self.grid_size,1)),axis=2)\n",
        "        state = state[self.x-2:self.x+3,self.y-2:self.y+3,:]\n",
        "\n",
        "        return state, reward, game_over\n",
        "\n",
        "    def reset(self):\n",
        "        \"\"\"This function resets the game and returns the initial state\"\"\"\n",
        "\n",
        "        self.x = np.random.randint(3, self.grid_size-3, size=1)[0]\n",
        "        self.y = np.random.randint(3, self.grid_size-3, size=1)[0]\n",
        "\n",
        "\n",
        "        bonus = 0.5*np.random.binomial(1,self.temperature,size=self.grid_size**2)\n",
        "        bonus = bonus.reshape(self.grid_size,self.grid_size)\n",
        "\n",
        "        malus = -1.0*np.random.binomial(1,self.temperature,size=self.grid_size**2)\n",
        "        malus = malus.reshape(self.grid_size, self.grid_size)\n",
        "\n",
        "        self.to_draw = np.zeros((self.max_time+2, self.grid_size*self.scale, self.grid_size*self.scale, 3))\n",
        "\n",
        "\n",
        "        malus[bonus>0]=0\n",
        "\n",
        "        self.board = bonus + malus\n",
        "\n",
        "        self.position = np.zeros((self.grid_size, self.grid_size))\n",
        "        self.position[0:2,:]= -1\n",
        "        self.position[:,0:2] = -1\n",
        "        self.position[-2:, :] = -1\n",
        "        self.position[-2:, :] = -1\n",
        "        self.board[self.x,self.y] = 0\n",
        "        self.t = 0\n",
        "\n",
        "        state = np.concatenate((\n",
        "                               self.board.reshape(self.grid_size, self.grid_size,1),\n",
        "                        self.position.reshape(self.grid_size, self.grid_size,1)),axis=2)\n",
        "\n",
        "        state = state[self.x - 2:self.x + 3, self.y - 2:self.y + 3, :]\n",
        "        return state"
      ],
      "execution_count": 0,
      "outputs": []
    },
    {
      "metadata": {
        "id": "4S1F_DtQ_26O",
        "colab_type": "text"
      },
      "cell_type": "markdown",
      "source": [
        "The following elements are important because they correspond to the hyper parameters for this project:"
      ]
    },
    {
      "metadata": {
        "id": "8wXnlSAh_26P",
        "colab_type": "code",
        "colab": {}
      },
      "cell_type": "code",
      "source": [
        "# parameters\n",
        "size = 13\n",
        "T=200\n",
        "temperature=0.3\n",
        "epochs_train=50 # set small when debugging\n",
        "epochs_test=15 # set small when debugging\n",
        "\n",
        "# display videos\n",
        "def display_videos(name):\n",
        "    video = io.open(name, 'r+b').read()\n",
        "    encoded = base64.b64encode(video)\n",
        "    return '''<video alt=\"test\" controls>\n",
        "                <source src=\"data:video/mp4;base64,{0}\" type=\"video/mp4\" />\n",
        "             </video>'''.format(encoded.decode('ascii'))"
      ],
      "execution_count": 0,
      "outputs": []
    },
    {
      "metadata": {
        "id": "euwMxuns_26U",
        "colab_type": "text"
      },
      "cell_type": "markdown",
      "source": [
        "__Question 2__ Explain the use of the arrays ```position``` and ```board```."
      ]
    },
    {
      "metadata": {
        "id": "dfVOKoMz_26V",
        "colab_type": "text"
      },
      "cell_type": "markdown",
      "source": [
        "The array position represents where the rat can go. It has -1 in the boundaries where the rat can't go, 0 where we can actually go and finally 1 in the position where the rat is. The array board represent the reward associated to each cell of the grid. "
      ]
    },
    {
      "metadata": {
        "id": "gjP5JV1H_26X",
        "colab_type": "text"
      },
      "cell_type": "markdown",
      "source": [
        "## Random Agent"
      ]
    },
    {
      "metadata": {
        "id": "JMgSzBeg_26Y",
        "colab_type": "text"
      },
      "cell_type": "markdown",
      "source": [
        "***\n",
        "__Question 3__ Implement a random Agent (only ```learned_act``` needs to be implemented):"
      ]
    },
    {
      "metadata": {
        "id": "SzSlmQ9B_26Z",
        "colab_type": "code",
        "colab": {}
      },
      "cell_type": "code",
      "source": [
        "class RandomAgent(Agent):\n",
        "    def __init__(self):\n",
        "        super(RandomAgent, self).__init__()\n",
        "\n",
        "    def learned_act(self, s):\n",
        "        return np.random.randint(0,self.n_action)"
      ],
      "execution_count": 0,
      "outputs": []
    },
    {
      "metadata": {
        "id": "67umTSZV_26c",
        "colab_type": "text"
      },
      "cell_type": "markdown",
      "source": [
        "***\n",
        "***\n",
        "__Question 4__ Visualize the game moves. You need to fill in the following function for the evaluation:"
      ]
    },
    {
      "metadata": {
        "id": "Smjfn7_B_26c",
        "colab_type": "code",
        "colab": {}
      },
      "cell_type": "code",
      "source": [
        "def test(agent,env,epochs,prefix=''):\n",
        "    # Number of won games\n",
        "    score = 0\n",
        "        \n",
        "    for e in range(epochs):\n",
        "        \n",
        "        ##### FILL IN HERE\n",
        "        state = env.reset()\n",
        "        # This assumes that the games will end\n",
        "        game_over = False\n",
        "\n",
        "        win = 0\n",
        "        lose = 0\n",
        "        \n",
        "        \n",
        "        while not game_over:\n",
        "            \n",
        "            action = agent.learned_act(state)\n",
        "            prev_state= state\n",
        "            state,reward,game_over = env.act(action)\n",
        "            if reward >0:\n",
        "                win = win +reward \n",
        "            if reward < 0:\n",
        "                lose = lose-reward\n",
        "        # Save as a mp4\n",
        "        env.draw(prefix+str(e))\n",
        "\n",
        "        # Update stats\n",
        "        score = score + win-lose\n",
        "\n",
        "        print(\"Win/lose count {}/{}. Average score ({})\"\n",
        "              .format(win, lose, score/(1+e)))\n",
        "    print('Final score: '+str(score/epochs))"
      ],
      "execution_count": 0,
      "outputs": []
    },
    {
      "metadata": {
        "id": "VdjxNOof_26f",
        "colab_type": "code",
        "outputId": "daf00f7c-9be5-4b51-894a-a0f99d153ce3",
        "colab": {
          "base_uri": "https://localhost:8080/",
          "height": 440
        }
      },
      "cell_type": "code",
      "source": [
        "# Initialize the game\n",
        "env = Environment(grid_size=size, max_time=T,temperature=temperature)\n",
        "\n",
        "# Initialize the agent!\n",
        "agent = RandomAgent()\n",
        "\n",
        "test(agent,env,epochs_test,prefix='random')\n",
        "HTML(display_videos('random0.mp4'))"
      ],
      "execution_count": 35,
      "outputs": [
        {
          "output_type": "stream",
          "text": [
            "Win/lose count 10.0/19.0. Average score (-9.0)\n",
            "Win/lose count 12.0/12.0. Average score (-4.5)\n",
            "Win/lose count 11.0/16.0. Average score (-4.666666666666667)\n",
            "Win/lose count 13.5/11.0. Average score (-2.875)\n",
            "Win/lose count 9.0/9.0. Average score (-2.3)\n",
            "Win/lose count 7.5/14.0. Average score (-3.0)\n",
            "Win/lose count 11.0/18.0. Average score (-3.5714285714285716)\n",
            "Win/lose count 6.5/12.0. Average score (-3.8125)\n",
            "Win/lose count 11.0/13.0. Average score (-3.611111111111111)\n",
            "Win/lose count 8.0/9.0. Average score (-3.35)\n",
            "Win/lose count 7.5/7.0. Average score (-3.0)\n",
            "Win/lose count 10.5/8.0. Average score (-2.5416666666666665)\n",
            "Win/lose count 10.5/12.0. Average score (-2.4615384615384617)\n",
            "Win/lose count 10.0/20.0. Average score (-3.0)\n",
            "Win/lose count 12.0/17.0. Average score (-3.1333333333333333)\n",
            "Final score: -3.1333333333333333\n"
          ],
          "name": "stdout"
        },
        {
          "output_type": "execute_result",
          "data": {
            "text/html": [
              "<video alt=\"test\" controls>\n",
              "                <source src=\"data:video/mp4;base64,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\" type=\"video/mp4\" />\n",
              "             </video>"
            ],
            "text/plain": [
              "<IPython.core.display.HTML object>"
            ]
          },
          "metadata": {
            "tags": []
          },
          "execution_count": 35
        }
      ]
    },
    {
      "metadata": {
        "id": "I_wF413u_26k",
        "colab_type": "text"
      },
      "cell_type": "markdown",
      "source": [
        "***\n",
        "## DQN"
      ]
    },
    {
      "metadata": {
        "id": "hesyofHP_26l",
        "colab_type": "text"
      },
      "cell_type": "markdown",
      "source": [
        "Let us assume here that $T=\\infty$.\n",
        "\n",
        "***\n",
        "__Question 5__ Let $\\pi$ be a policy, show that:\n",
        "\n",
        "\\begin{equation*}\n",
        "Q^{\\pi}(s,a)=E_{(s',a')\\sim p(.|s,a)}[r(s,a)+\\gamma Q^{\\pi}(s',a')]\n",
        "\\end{equation*}\n",
        "\n",
        "Then, show that for the optimal policy $\\pi^*$ (we assume its existence), the following holds: \n",
        "\n",
        "\\begin{equation*}\n",
        "Q^{*}(s,a)=E_{s'\\sim \\pi^*(.|s,a)}[r(s,a)+\\gamma\\max_{a'}Q^{*}(s',a')].\n",
        "\\end{equation*}\n",
        "Finally, deduce that a plausible objective is:\n",
        "\n",
        "\\begin{equation*}\n",
        "\\mathcal{L}(\\theta)=E_{s' \\sim \\pi^*(.|s,a)}\\Vert r+\\gamma\\max\\max_{a'}Q(s',a',\\theta)-Q(s,a,\\theta)\\Vert^{2}.\n",
        "\\end{equation*}\n",
        "\n",
        "\n"
      ]
    },
    {
      "metadata": {
        "id": "9eMdWhIy_26m",
        "colab_type": "text"
      },
      "cell_type": "markdown",
      "source": [
        "For a policy $\\pi$, a state $s$ and an action $a$ :\n",
        "\n",
        "$$\\begin{align*}\n",
        "Q^{\\pi}(s,a) &= E_{p^{\\pi}}\\left[\\sum_{t\\leq T}\\gamma^{t}r(s_{t},a_{t})|s_{0}=s,a_{0}=a\\right]  \\\\\n",
        "&= r(s,a) + \\gamma \\sum_{s'}E_{p^{\\pi}}\\left[\\sum_{t= 1}^{T}\\gamma^{t-1}r(s_{t},a_{t})\\mathbb{1}_{\\{s_{1} = s'\\}}|s_{0}=s,a_{0}=a\\right] \\\\\n",
        "&=  r(s,a) + \\gamma \\sum_{s'}\\mathbb{P}(s'|s,a)E_{p^{\\pi}}\\left[\\sum_{t= 1}^{T}\\gamma^{t-1}r(s_{t},a_{t}) | s_{1}=s'\\right] \\\\\n",
        " & = r(s,a) + \\gamma \\sum_{s',a'}\\mathbb{P}(s'|s,a)\\pi(a'|s')E_{p^{\\pi}}\\left[\\sum_{t= 1}^{T}\\gamma^{t-1}r(s_{t},a_{t}) | s_{1}=s',a_{1}=a'\\right] \\\\\n",
        "&=  r(s,a) + \\gamma \\mathbb{E}_{(s',a')\\sim (\\mathbb{P}(.|s,a),\\pi(.|s'))}(Q^{\\pi}(s',a')) \\\\\n",
        "\\end{align*}$$\n",
        "\n",
        "The optimal $Q$-function is: $Q^*(s,a)=\\max_{\\pi}Q^\\pi(s,a)$. This is equivalent to maximizing the second term with respect to $a^\\prime$.\n",
        "Then: \n",
        "$Q^*(s,a)= r(s,a) + \\gamma E_{(s^\\prime, a^\\prime)\\sim p^{\\pi^*}(.|s,a)} [\\max_{a^\\prime}Q^*(s^\\prime,a^\\prime)]$.\n",
        "\n",
        "The proposed objective function allows to enforce the equality. If our neural network perfectly converge, it must bewith this optimal function. Using this loss function we try to force our learned Q-value to verify the Bellman equation."
      ]
    },
    {
      "metadata": {
        "id": "J475rZS3_26o",
        "colab_type": "text"
      },
      "cell_type": "markdown",
      "source": [
        "***\n",
        "The DQN-learning algorithm relies on these derivations to train the parameters $\\theta$ of a Deep Neural Network:\n",
        "\n",
        "1. At the state $s_t$, select the action $a_t$ with best reward using $Q_t$ and store the results;\n",
        "\n",
        "2. Obtain the new state $s_{t+1}$ from the environment $p$;\n",
        "\n",
        "3. Store $(s_t,a_t,s_{t+1})$;\n",
        "\n",
        "4. Obtain $Q_{t+1}$ by minimizing  $\\mathcal{L}$ from a recovered batch from the previously stored results.\n",
        "\n",
        "***\n",
        "__Question 6__ Implement the class ```Memory``` that stores moves (in a replay buffer) via ```remember``` and provides a ```random_access``` to these. Specify a maximum memory size to avoid side effects. You can for example use a ```list()``` and set by default ```max_memory=100```."
      ]
    },
    {
      "metadata": {
        "id": "zPcctX2-_26p",
        "colab_type": "code",
        "colab": {}
      },
      "cell_type": "code",
      "source": [
        "class Memory(object):\n",
        "    def __init__(self, max_memory=100):\n",
        "        self.max_memory = max_memory\n",
        "        self.memory = list()\n",
        "\n",
        "    def remember(self, m):\n",
        "        self.memory.append(m)\n",
        "        if len(self.memory)>= self.max_memory:\n",
        "            del self.memory[0]\n",
        "\n",
        "    def random_access(self):\n",
        "        i = np.random.randint(0,len(self.memory))\n",
        "        return self.memory[i]"
      ],
      "execution_count": 0,
      "outputs": []
    },
    {
      "metadata": {
        "id": "vrdK0Ryj_26v",
        "colab_type": "text"
      },
      "cell_type": "markdown",
      "source": [
        "***\n",
        "The pipeline we will use for training is given below:"
      ]
    },
    {
      "metadata": {
        "id": "2hQqOcCS_26w",
        "colab_type": "code",
        "colab": {}
      },
      "cell_type": "code",
      "source": [
        "def train(agent,env,epoch,prefix=''):\n",
        "    # Number of won games\n",
        "    score = 0\n",
        "    loss = 0\n",
        "\n",
        "    for e in range(epoch):\n",
        "        # At each epoch, we restart to a fresh game and get the initial state\n",
        "        state = env.reset()\n",
        "        # This assumes that the games will terminate\n",
        "        game_over = False\n",
        "\n",
        "        win = 0\n",
        "        lose = 0\n",
        "\n",
        "        while not game_over:\n",
        "            # The agent performs an action\n",
        "            action = agent.act(state)\n",
        "\n",
        "            # Apply an action to the environment, get the next state, the reward\n",
        "            # and if the games end\n",
        "            prev_state = state\n",
        "            state, reward, game_over = env.act(action)\n",
        "\n",
        "            # Update the counters\n",
        "            if reward > 0:\n",
        "                win = win + reward\n",
        "            if reward < 0:\n",
        "                lose = lose -reward\n",
        "\n",
        "            # Apply the reinforcement strategy\n",
        "            loss = agent.reinforce(prev_state, state,  action, reward, game_over)\n",
        "\n",
        "        # Save as a mp4\n",
        "        if e % 10 == 0:\n",
        "            env.draw(prefix+str(e))\n",
        "\n",
        "        # Update stats\n",
        "        score += win-lose\n",
        "\n",
        "        print(\"Epoch {:03d}/{:03d} | Loss {:.4f} | Win/lose count {}/{} ({})\"\n",
        "              .format(e, epoch, loss, win, lose, win-lose))\n",
        "        agent.save(name_weights=prefix+'model.h5',name_model=prefix+'model.json')"
      ],
      "execution_count": 0,
      "outputs": []
    },
    {
      "metadata": {
        "id": "_JJX5jtv_26z",
        "colab_type": "text"
      },
      "cell_type": "markdown",
      "source": [
        "***\n",
        "__Question 7__ Implement the DQN training algorithm using a cascade of fully connected layers. You can use different learning rate, batch size or memory size parameters. In particular, the loss might oscillate while the player will start to win the games. You have to find a good criterium."
      ]
    },
    {
      "metadata": {
        "id": "urbethrU_260",
        "colab_type": "code",
        "colab": {}
      },
      "cell_type": "code",
      "source": [
        "class DQN(Agent):\n",
        "    def __init__(self, grid_size,  epsilon = 0.1, memory_size=100, batch_size = 16,n_state=2):\n",
        "        super(DQN, self).__init__(epsilon = epsilon)\n",
        "\n",
        "        # Discount for Q learning\n",
        "        self.discount = 0.99\n",
        "        \n",
        "        self.grid_size = grid_size\n",
        "        \n",
        "        # number of state\n",
        "        self.n_state = n_state\n",
        "\n",
        "        # Memory\n",
        "        self.memory = Memory(memory_size)\n",
        "        \n",
        "        # Batch size when learning\n",
        "        self.batch_size = batch_size\n",
        "\n",
        "    def learned_act(self, s):\n",
        "      #Returns an action based on the greedy policy with respect to the learned Q-function\n",
        "        pred = self.model.predict(s[None])\n",
        "        return np.argmax(pred)\n",
        "\n",
        "    def reinforce(self, s_, n_s_, a_, r_, game_over_):\n",
        "        # Two steps: first memorize the states, second learn from the pool\n",
        "        \n",
        "        self.memory.remember([s_, n_s_, a_, r_, game_over_])\n",
        "        \n",
        "        input_states = np.zeros((self.batch_size, 5,5,self.n_state))\n",
        "        target_q = np.zeros((self.batch_size, 4))\n",
        "        \n",
        "        for i in range(self.batch_size):\n",
        "            \n",
        "            s, n_s, a, r, game_over = self.memory.random_access()\n",
        "            target_q[i] = self.model.predict(s[None,:])\n",
        "           \n",
        "            \n",
        "            # Replace the value of the q-function only for the action played\n",
        "            # and set the value of the other actions to the value predicted by the network at the previous\n",
        "            # step\n",
        "          \n",
        "            if game_over:\n",
        "                \n",
        "                target_q[i][a] = r\n",
        "                \n",
        "            else:\n",
        "                \n",
        "                target_q[i][a] = r + self.discount*max((self.model.predict(n_s[None,:]))[0])\n",
        "            \n",
        "            \n",
        "            input_states[i,:] = s \n",
        "                \n",
        "        \n",
        "        # HINT: Clip the target to avoid exploiding gradients.. -- clipping is a bit tighter\n",
        "        target_q = np.clip(target_q, -3, 3)\n",
        "\n",
        "        l = self.model.train_on_batch(input_states, target_q)\n",
        "\n",
        "        return l\n",
        "\n",
        "    def save(self,name_weights='model.h5',name_model='model.json'):\n",
        "        self.model.save_weights(name_weights, overwrite=True)\n",
        "        with open(name_model, \"w\") as outfile:\n",
        "            json.dump(self.model.to_json(), outfile)\n",
        "            \n",
        "    def load(self,name_weights='model.h5',name_model='model.json'):\n",
        "        with open(name_model, \"r\") as jfile:\n",
        "            model = model_from_json(json.load(jfile))\n",
        "        model.load_weights(name_weights)\n",
        "        model.compile(\"sgd\", \"mse\")\n",
        "        self.model = model\n",
        "\n",
        "            \n",
        "class DQN_FC(DQN):\n",
        "    def __init__(self, *args, lr=0.1,**kwargs):\n",
        "        super(DQN_FC, self).__init__( *args,**kwargs)\n",
        "                \n",
        "        # NN Model\n",
        "       \n",
        "        model = Sequential()\n",
        "        model.add(Flatten(input_shape = (5,5,self.n_state)))\n",
        "        model.add(Dense(32,activation  = 'relu'))\n",
        "        model.add(Dense(4))\n",
        "        \n",
        "        model.compile(sgd(lr=lr, decay=1e-4, momentum=0.0), \"mse\")\n",
        "        self.model = model"
      ],
      "execution_count": 0,
      "outputs": []
    },
    {
      "metadata": {
        "id": "r6pru8FX_262",
        "colab_type": "code",
        "outputId": "c307e809-b812-4d8e-c59a-829da7e9b128",
        "colab": {
          "base_uri": "https://localhost:8080/",
          "height": 1011
        }
      },
      "cell_type": "code",
      "source": [
        "#epochs_train = 50\n",
        "env = Environment(grid_size=size, max_time=T, temperature=0.3)\n",
        "agent = DQN_FC(size, lr=.1, epsilon = 0.1, memory_size=2000, batch_size = 32)\n",
        "train(agent, env, epochs_train, prefix='fc_train')\n",
        "HTML(display_videos('fc_train10.mp4'))"
      ],
      "execution_count": 39,
      "outputs": [
        {
          "output_type": "stream",
          "text": [
            "Epoch 000/050 | Loss 0.0133 | Win/lose count 3.5/4.0 (-0.5)\n",
            "Epoch 001/050 | Loss 0.0092 | Win/lose count 3.0/2.0 (1.0)\n",
            "Epoch 002/050 | Loss 0.0104 | Win/lose count 4.0/7.0 (-3.0)\n",
            "Epoch 003/050 | Loss 0.0051 | Win/lose count 2.5/2.0 (0.5)\n",
            "Epoch 004/050 | Loss 0.0077 | Win/lose count 1.5/5.0 (-3.5)\n",
            "Epoch 005/050 | Loss 0.0119 | Win/lose count 3.0/5.0 (-2.0)\n",
            "Epoch 006/050 | Loss 0.0168 | Win/lose count 5.5/9.0 (-3.5)\n",
            "Epoch 007/050 | Loss 0.0179 | Win/lose count 2.5/3.0 (-0.5)\n",
            "Epoch 008/050 | Loss 0.0068 | Win/lose count 8.5/3.0 (5.5)\n",
            "Epoch 009/050 | Loss 0.0071 | Win/lose count 2.5/1.0 (1.5)\n",
            "Epoch 010/050 | Loss 0.1005 | Win/lose count 1.5/3.0 (-1.5)\n",
            "Epoch 011/050 | Loss 0.0061 | Win/lose count 4.0/3.0 (1.0)\n",
            "Epoch 012/050 | Loss 0.0056 | Win/lose count 5.0/1.0 (4.0)\n",
            "Epoch 013/050 | Loss 0.0067 | Win/lose count 4.0/3.0 (1.0)\n",
            "Epoch 014/050 | Loss 0.0082 | Win/lose count 5.0/0 (5.0)\n",
            "Epoch 015/050 | Loss 0.0098 | Win/lose count 3.5/0 (3.5)\n",
            "Epoch 016/050 | Loss 0.0017 | Win/lose count 3.0/1.0 (2.0)\n",
            "Epoch 017/050 | Loss 0.0060 | Win/lose count 2.0/1.0 (1.0)\n",
            "Epoch 018/050 | Loss 0.0043 | Win/lose count 5.5/3.0 (2.5)\n",
            "Epoch 019/050 | Loss 0.0035 | Win/lose count 5.0/6.0 (-1.0)\n",
            "Epoch 020/050 | Loss 0.0051 | Win/lose count 1.0/4.0 (-3.0)\n",
            "Epoch 021/050 | Loss 0.0068 | Win/lose count 2.0/1.0 (1.0)\n",
            "Epoch 022/050 | Loss 0.0055 | Win/lose count 2.5/3.0 (-0.5)\n",
            "Epoch 023/050 | Loss 0.0036 | Win/lose count 6.5/0 (6.5)\n",
            "Epoch 024/050 | Loss 0.0076 | Win/lose count 4.0/2.0 (2.0)\n",
            "Epoch 025/050 | Loss 0.0133 | Win/lose count 8.5/8.0 (0.5)\n",
            "Epoch 026/050 | Loss 0.0034 | Win/lose count 2.0/6.0 (-4.0)\n",
            "Epoch 027/050 | Loss 0.0105 | Win/lose count 7.0/5.0 (2.0)\n",
            "Epoch 028/050 | Loss 0.0045 | Win/lose count 2.5/0 (2.5)\n",
            "Epoch 029/050 | Loss 0.0044 | Win/lose count 3.5/2.0 (1.5)\n",
            "Epoch 030/050 | Loss 0.0021 | Win/lose count 3.5/2.0 (1.5)\n",
            "Epoch 031/050 | Loss 0.0078 | Win/lose count 6.0/3.0 (3.0)\n",
            "Epoch 032/050 | Loss 0.0024 | Win/lose count 4.0/2.0 (2.0)\n",
            "Epoch 033/050 | Loss 0.0025 | Win/lose count 4.5/1.0 (3.5)\n",
            "Epoch 034/050 | Loss 0.0565 | Win/lose count 6.0/3.0 (3.0)\n",
            "Epoch 035/050 | Loss 0.0028 | Win/lose count 8.5/1.0 (7.5)\n",
            "Epoch 036/050 | Loss 0.0017 | Win/lose count 7.0/2.0 (5.0)\n",
            "Epoch 037/050 | Loss 0.0536 | Win/lose count 2.0/3.0 (-1.0)\n",
            "Epoch 038/050 | Loss 0.0940 | Win/lose count 5.5/3.0 (2.5)\n",
            "Epoch 039/050 | Loss 0.0061 | Win/lose count 10.5/0 (10.5)\n",
            "Epoch 040/050 | Loss 0.0495 | Win/lose count 3.0/0 (3.0)\n",
            "Epoch 041/050 | Loss 0.0452 | Win/lose count 5.5/1.0 (4.5)\n",
            "Epoch 042/050 | Loss 0.0495 | Win/lose count 7.0/5.0 (2.0)\n",
            "Epoch 043/050 | Loss 0.0115 | Win/lose count 8.0/6.0 (2.0)\n",
            "Epoch 044/050 | Loss 0.0026 | Win/lose count 14.5/2.0 (12.5)\n",
            "Epoch 045/050 | Loss 0.0024 | Win/lose count 14.0/6.0 (8.0)\n",
            "Epoch 046/050 | Loss 0.0030 | Win/lose count 5.0/3.0 (2.0)\n",
            "Epoch 047/050 | Loss 0.0071 | Win/lose count 13.0/4.0 (9.0)\n",
            "Epoch 048/050 | Loss 0.0054 | Win/lose count 8.0/0 (8.0)\n",
            "Epoch 049/050 | Loss 0.0023 | Win/lose count 9.0/3.0 (6.0)\n"
          ],
          "name": "stdout"
        },
        {
          "output_type": "execute_result",
          "data": {
            "text/html": [
              "<video alt=\"test\" controls>\n",
              "                <source src=\"data:video/mp4;base64,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\" type=\"video/mp4\" />\n",
              "             </video>"
            ],
            "text/plain": [
              "<IPython.core.display.HTML object>"
            ]
          },
          "metadata": {
            "tags": []
          },
          "execution_count": 39
        }
      ]
    },
    {
      "metadata": {
        "id": "ICL7bchM_264",
        "colab_type": "text"
      },
      "cell_type": "markdown",
      "source": [
        "***\n",
        "***\n",
        "__Question 8__ Implement the DQN training algorithm using a CNN (for example, 2 convolutional layers and one final fully connected layer)."
      ]
    },
    {
      "metadata": {
        "id": "Hp9ASDy3_265",
        "colab_type": "code",
        "colab": {}
      },
      "cell_type": "code",
      "source": [
        "class DQN_CNN(DQN):\n",
        "    def __init__(self, *args,lr=0.1,**kwargs):\n",
        "        super(DQN_CNN, self).__init__(*args,**kwargs)\n",
        "        \n",
        "        model = Sequential()\n",
        "        model.add(Conv2D(32,kernel_size = (2,2), activation = 'relu',input_shape = (5,5,self.n_state)))\n",
        "        model.add(Conv2D(32,kernel_size = (2,2), activation = 'relu'))\n",
        "        model.add(Flatten())\n",
        "        model.add(Dense(4))\n",
        "        \n",
        "        model.compile(sgd(lr=lr, decay=1e-4, momentum=0.0), \"mse\")\n",
        "        self.model = model"
      ],
      "execution_count": 0,
      "outputs": []
    },
    {
      "metadata": {
        "id": "UonquNSC_268",
        "colab_type": "code",
        "outputId": "cfa3d56e-ce8e-469f-f377-8767d0cb4aee",
        "colab": {
          "base_uri": "https://localhost:8080/",
          "height": 1011
        }
      },
      "cell_type": "code",
      "source": [
        "env = Environment(grid_size=size, max_time=T, temperature=0.3)\n",
        "agent = DQN_CNN(size, lr=.1, epsilon = 0.1, memory_size=2000, batch_size = 32)\n",
        "train(agent,env,epochs_train,prefix='cnn_train')\n",
        "HTML(display_videos('cnn_train10.mp4'))"
      ],
      "execution_count": 41,
      "outputs": [
        {
          "output_type": "stream",
          "text": [
            "Epoch 000/050 | Loss 0.0044 | Win/lose count 2.0/3.0 (-1.0)\n",
            "Epoch 001/050 | Loss 0.0017 | Win/lose count 1.5/2.0 (-0.5)\n",
            "Epoch 002/050 | Loss 0.0029 | Win/lose count 6.5/2.0 (4.5)\n",
            "Epoch 003/050 | Loss 0.0158 | Win/lose count 4.0/9.0 (-5.0)\n",
            "Epoch 004/050 | Loss 0.0060 | Win/lose count 2.0/4.0 (-2.0)\n",
            "Epoch 005/050 | Loss 0.0260 | Win/lose count 4.5/5.0 (-0.5)\n",
            "Epoch 006/050 | Loss 0.0022 | Win/lose count 3.5/1.0 (2.5)\n",
            "Epoch 007/050 | Loss 0.0022 | Win/lose count 6.0/4.0 (2.0)\n",
            "Epoch 008/050 | Loss 0.0031 | Win/lose count 6.0/4.0 (2.0)\n",
            "Epoch 009/050 | Loss 0.0041 | Win/lose count 5.5/4.0 (1.5)\n",
            "Epoch 010/050 | Loss 0.0055 | Win/lose count 11.0/4.0 (7.0)\n",
            "Epoch 011/050 | Loss 0.0031 | Win/lose count 8.5/2.0 (6.5)\n",
            "Epoch 012/050 | Loss 0.0025 | Win/lose count 6.0/2.0 (4.0)\n",
            "Epoch 013/050 | Loss 0.0035 | Win/lose count 13.0/2.0 (11.0)\n",
            "Epoch 014/050 | Loss 0.0016 | Win/lose count 14.0/4.0 (10.0)\n",
            "Epoch 015/050 | Loss 0.0091 | Win/lose count 11.0/3.0 (8.0)\n",
            "Epoch 016/050 | Loss 0.0016 | Win/lose count 9.0/1.0 (8.0)\n",
            "Epoch 017/050 | Loss 0.0018 | Win/lose count 15.5/3.0 (12.5)\n",
            "Epoch 018/050 | Loss 0.0020 | Win/lose count 8.5/2.0 (6.5)\n",
            "Epoch 019/050 | Loss 0.0013 | Win/lose count 4.5/1.0 (3.5)\n",
            "Epoch 020/050 | Loss 0.0024 | Win/lose count 12.5/1.0 (11.5)\n",
            "Epoch 021/050 | Loss 0.0014 | Win/lose count 7.0/1.0 (6.0)\n",
            "Epoch 022/050 | Loss 0.0013 | Win/lose count 6.0/5.0 (1.0)\n",
            "Epoch 023/050 | Loss 0.0046 | Win/lose count 9.5/2.0 (7.5)\n",
            "Epoch 024/050 | Loss 0.0620 | Win/lose count 3.5/2.0 (1.5)\n",
            "Epoch 025/050 | Loss 0.0014 | Win/lose count 5.5/1.0 (4.5)\n",
            "Epoch 026/050 | Loss 0.0024 | Win/lose count 19.5/4.0 (15.5)\n",
            "Epoch 027/050 | Loss 0.0021 | Win/lose count 8.0/2.0 (6.0)\n",
            "Epoch 028/050 | Loss 0.0012 | Win/lose count 16.0/6.0 (10.0)\n",
            "Epoch 029/050 | Loss 0.0022 | Win/lose count 18.0/6.0 (12.0)\n",
            "Epoch 030/050 | Loss 0.0036 | Win/lose count 15.0/3.0 (12.0)\n",
            "Epoch 031/050 | Loss 0.0019 | Win/lose count 10.5/3.0 (7.5)\n",
            "Epoch 032/050 | Loss 0.0028 | Win/lose count 12.0/2.0 (10.0)\n",
            "Epoch 033/050 | Loss 0.0014 | Win/lose count 13.5/4.0 (9.5)\n",
            "Epoch 034/050 | Loss 0.0014 | Win/lose count 21.0/2.0 (19.0)\n",
            "Epoch 035/050 | Loss 0.0016 | Win/lose count 10.5/1.0 (9.5)\n",
            "Epoch 036/050 | Loss 0.0038 | Win/lose count 7.5/2.0 (5.5)\n",
            "Epoch 037/050 | Loss 0.0027 | Win/lose count 8.5/1.0 (7.5)\n",
            "Epoch 038/050 | Loss 0.0029 | Win/lose count 11.0/2.0 (9.0)\n",
            "Epoch 039/050 | Loss 0.0021 | Win/lose count 10.5/4.0 (6.5)\n",
            "Epoch 040/050 | Loss 0.0024 | Win/lose count 16.0/1.0 (15.0)\n",
            "Epoch 041/050 | Loss 0.0045 | Win/lose count 15.0/3.0 (12.0)\n",
            "Epoch 042/050 | Loss 0.0034 | Win/lose count 6.0/0 (6.0)\n",
            "Epoch 043/050 | Loss 0.0027 | Win/lose count 23.5/3.0 (20.5)\n",
            "Epoch 044/050 | Loss 0.0030 | Win/lose count 15.0/3.0 (12.0)\n",
            "Epoch 045/050 | Loss 0.0032 | Win/lose count 20.0/3.0 (17.0)\n",
            "Epoch 046/050 | Loss 0.0012 | Win/lose count 10.0/3.0 (7.0)\n",
            "Epoch 047/050 | Loss 0.0046 | Win/lose count 9.0/4.0 (5.0)\n",
            "Epoch 048/050 | Loss 0.0010 | Win/lose count 8.0/1.0 (7.0)\n",
            "Epoch 049/050 | Loss 0.0025 | Win/lose count 14.0/1.0 (13.0)\n"
          ],
          "name": "stdout"
        },
        {
          "output_type": "execute_result",
          "data": {
            "text/html": [
              "<video alt=\"test\" controls>\n",
              "                <source src=\"data:video/mp4;base64,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\" type=\"video/mp4\" />\n",
              "             </video>"
            ],
            "text/plain": [
              "<IPython.core.display.HTML object>"
            ]
          },
          "metadata": {
            "tags": []
          },
          "execution_count": 41
        }
      ]
    },
    {
      "metadata": {
        "id": "i9GyGEhI_26-",
        "colab_type": "text"
      },
      "cell_type": "markdown",
      "source": [
        "***\n",
        "***\n",
        "__Question 9__ Test both algorithms and compare their performances. Which issue(s) do you observe? Observe also different behaviors by changing the temperature."
      ]
    },
    {
      "metadata": {
        "id": "vN7d864q_26_",
        "colab_type": "code",
        "outputId": "540c1c91-a502-411a-de77-a0629c76e479",
        "colab": {
          "base_uri": "https://localhost:8080/",
          "height": 588
        }
      },
      "cell_type": "code",
      "source": [
        "env = Environment(grid_size=size, max_time=T,temperature=0.3)\n",
        "agent_cnn = DQN_CNN(size, lr=.1, epsilon = 0.1, memory_size=2000, batch_size = 32)\n",
        "agent_cnn.load(name_weights='cnn_trainmodel.h5',name_model='cnn_trainmodel.json')\n",
        "\n",
        "agent_fc = DQN_FC(size, lr=.1, epsilon = 0.1, memory_size=2000, batch_size = 32)\n",
        "agent_fc.load(name_weights='fc_trainmodel.h5',name_model='fc_trainmodel.json')\n",
        "print('Test of the CNN')\n",
        "test(agent_cnn,env,epochs_test,prefix='cnn_test')\n",
        "print('Test of the FC')\n",
        "test(agent_fc,env,epochs_test,prefix='fc_test')"
      ],
      "execution_count": 42,
      "outputs": [
        {
          "output_type": "stream",
          "text": [
            "Test of the CNN\n",
            "Win/lose count 3.5/0. Average score (3.5)\n",
            "Win/lose count 6.0/0. Average score (4.75)\n",
            "Win/lose count 11.5/0. Average score (7.0)\n",
            "Win/lose count 4.0/0. Average score (6.25)\n",
            "Win/lose count 6.5/0. Average score (6.3)\n",
            "Win/lose count 4.0/0. Average score (5.916666666666667)\n",
            "Win/lose count 5.0/0. Average score (5.785714285714286)\n",
            "Win/lose count 5.0/0. Average score (5.6875)\n",
            "Win/lose count 6.0/0. Average score (5.722222222222222)\n",
            "Win/lose count 10.0/0. Average score (6.15)\n",
            "Win/lose count 0/0. Average score (5.590909090909091)\n",
            "Win/lose count 10.5/0. Average score (6.0)\n",
            "Win/lose count 7.5/0. Average score (6.115384615384615)\n",
            "Win/lose count 8.5/0. Average score (6.285714285714286)\n",
            "Win/lose count 2.5/1.0. Average score (5.966666666666667)\n",
            "Final score: 5.966666666666667\n",
            "Test of the FC\n",
            "Win/lose count 1.5/0. Average score (1.5)\n",
            "Win/lose count 4.5/0. Average score (3.0)\n",
            "Win/lose count 5.0/0. Average score (3.6666666666666665)\n",
            "Win/lose count 9.5/1.0. Average score (4.875)\n",
            "Win/lose count 3.0/0. Average score (4.5)\n",
            "Win/lose count 10.0/0. Average score (5.416666666666667)\n",
            "Win/lose count 2.0/0. Average score (4.928571428571429)\n",
            "Win/lose count 0/0. Average score (4.3125)\n",
            "Win/lose count 3.0/0. Average score (4.166666666666667)\n",
            "Win/lose count 1.0/0. Average score (3.85)\n",
            "Win/lose count 2.5/0. Average score (3.727272727272727)\n",
            "Win/lose count 2.5/0. Average score (3.625)\n",
            "Win/lose count 7.0/0. Average score (3.8846153846153846)\n",
            "Win/lose count 5.0/0. Average score (3.9642857142857144)\n",
            "Win/lose count 4.0/0. Average score (3.966666666666667)\n",
            "Final score: 3.966666666666667\n"
          ],
          "name": "stdout"
        }
      ]
    },
    {
      "metadata": {
        "id": "GqL6z408_27C",
        "colab_type": "code",
        "outputId": "92e3ba28-5f9c-49f5-cc36-954b5a7d2d96",
        "colab": {
          "base_uri": "https://localhost:8080/",
          "height": 171
        }
      },
      "cell_type": "code",
      "source": [
        "HTML(display_videos('cnn_test10.mp4'))"
      ],
      "execution_count": 43,
      "outputs": [
        {
          "output_type": "execute_result",
          "data": {
            "text/html": [
              "<video alt=\"test\" controls>\n",
              "                <source src=\"data:video/mp4;base64,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\" type=\"video/mp4\" />\n",
              "             </video>"
            ],
            "text/plain": [
              "<IPython.core.display.HTML object>"
            ]
          },
          "metadata": {
            "tags": []
          },
          "execution_count": 43
        }
      ]
    },
    {
      "metadata": {
        "id": "mzzXfOxV_27R",
        "colab_type": "code",
        "outputId": "12ce0a25-4e15-4323-b72a-3bf84223bc6c",
        "colab": {
          "base_uri": "https://localhost:8080/",
          "height": 171
        }
      },
      "cell_type": "code",
      "source": [
        "HTML(display_videos('fc_test10.mp4'))"
      ],
      "execution_count": 44,
      "outputs": [
        {
          "output_type": "execute_result",
          "data": {
            "text/html": [
              "<video alt=\"test\" controls>\n",
              "                <source src=\"data:video/mp4;base64,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\" type=\"video/mp4\" />\n",
              "             </video>"
            ],
            "text/plain": [
              "<IPython.core.display.HTML object>"
            ]
          },
          "metadata": {
            "tags": []
          },
          "execution_count": 44
        }
      ]
    },
    {
      "metadata": {
        "id": "KXLfdgxN_27W",
        "colab_type": "text"
      },
      "cell_type": "markdown",
      "source": [
        "The performance using the architecture based on CNN is better than the one obtained using some fully connected networks because of overfitting. The gap is increased with the temperature.\n",
        "\n",
        "The main issue that we can observe is that the algorithms tends to not explore enough the map. The agent seems to be blocked in a local optima. This does not decrease the score but does not help to improve it. Even when the temperature is higher, this problem remains."
      ]
    },
    {
      "metadata": {
        "id": "-YaXfU7c_27Y",
        "colab_type": "text"
      },
      "cell_type": "markdown",
      "source": [
        "***\n",
        "\n",
        "The algorithm tends to not explore the map which can be an issue. We propose two ideas in order to encourage exploration:\n",
        "1. Incorporating a decreasing $\\epsilon$-greedy exploration. You can use the method ```set_epsilon```\n",
        "2. Append via the environment a new state that describes if a cell has been visited or not\n",
        "\n",
        "***\n",
        "__Question 10__ Design a new ```train_explore``` function and environment class ```EnvironmentExploring``` to tackle the issue of exploration.\n",
        "\n"
      ]
    },
    {
      "metadata": {
        "id": "auUsspxj_27Z",
        "colab_type": "code",
        "colab": {}
      },
      "cell_type": "code",
      "source": [
        "def train_explore(agent,env,epoch,prefix=''):\n",
        "    score = 0\n",
        "    loss = 0\n",
        "\n",
        "    for e in range(epoch):\n",
        "      \n",
        "        state = env.reset()\n",
        "        game_over = False\n",
        "\n",
        "        win = 0\n",
        "        lose = 0\n",
        "        agent.set_epsilon(agent.epsilon*0.90)\n",
        "        while not game_over:\n",
        "         \n",
        "            action = agent.act(state)\n",
        "\n",
        "            \n",
        "            prev_state = state\n",
        "            state, reward, game_over = env.act(action, train=True)\n",
        "\n",
        "            \n",
        "            if reward > 0:\n",
        "                win = win + reward\n",
        "            if reward < 0:\n",
        "                lose = lose -reward\n",
        "\n",
        "            \n",
        "            loss = agent.reinforce(prev_state, state,  action, reward, game_over)\n",
        "            \n",
        "      \n",
        "        if e % 10 == 0:\n",
        "          env.draw(prefix+str(e))\n",
        "\n",
        "       \n",
        "        score += win-lose\n",
        "\n",
        "        print(\"Epoch {:03d}/{:03d} | Loss {:.4f} | Win/lose count {}/{} ({})\"\n",
        "              .format(e, epoch, loss, win, lose, win-lose))\n",
        "        agent.save(name_weights=prefix+'model.h5',name_model=prefix+'model.json')\n",
        "class EnvironmentExploring(object):\n",
        "    def __init__(self, grid_size=10, max_time=500, temperature=0.1):\n",
        "        grid_size = grid_size+4\n",
        "        self.grid_size = grid_size\n",
        "        self.max_time = max_time\n",
        "        self.temperature = temperature\n",
        "\n",
        "        \n",
        "        self.board = np.zeros((grid_size,grid_size))\n",
        "        self.position = np.zeros((grid_size,grid_size))\n",
        "        self.malus_position = np.zeros((grid_size,grid_size)) \n",
        "        self.x = 0\n",
        "        self.y = 1\n",
        "\n",
        "        \n",
        "        self.t = 0\n",
        "\n",
        "        self.scale=16\n",
        "\n",
        "        self.to_draw = np.zeros((max_time+2, grid_size*self.scale, grid_size*self.scale, 3))\n",
        "\n",
        "\n",
        "    def draw(self,e):\n",
        "        skvideo.io.vwrite(str(e) + '.mp4', self.to_draw)\n",
        "        \n",
        "        \n",
        "    def get_frame(self,t):\n",
        "        b = np.zeros((self.grid_size,self.grid_size,3))+128\n",
        "        b[self.board>0,0] = 256\n",
        "        b[self.board < 0, 2] = 256\n",
        "        b[self.x,self.y,:]=256\n",
        "        b[-2:,:,:]=0\n",
        "        b[:,-2:,:]=0\n",
        "        b[:2,:,:]=0\n",
        "        b[:,:2,:]=0\n",
        "        \n",
        "        b =  cv2.resize(b, None, fx=self.scale, fy=self.scale, interpolation=cv2.INTER_NEAREST)\n",
        "\n",
        "        self.to_draw[t,:,:,:]=b\n",
        "    def act(self, action,train = False):\n",
        "        \n",
        "\n",
        "        self.get_frame(int(self.t))\n",
        "\n",
        "        self.position = np.zeros((self.grid_size, self.grid_size))\n",
        "\n",
        "        self.position[0:2,:]= -1\n",
        "        self.position[:,0:2] = -1\n",
        "        self.position[-2:, :] = -1\n",
        "        self.position[:,-2:] = -1\n",
        "\n",
        "        self.position[self.x, self.y] = 1\n",
        "        if action == 0:\n",
        "            if self.x == self.grid_size-3:\n",
        "                self.x = self.x-1\n",
        "            else:\n",
        "                self.x = self.x + 1\n",
        "        elif action == 1:\n",
        "            if self.x == 2:\n",
        "                self.x = self.x+1\n",
        "            else:\n",
        "                self.x = self.x-1\n",
        "        elif action == 2:\n",
        "            if self.y == self.grid_size - 3:\n",
        "                self.y = self.y - 1\n",
        "            else:\n",
        "                self.y = self.y + 1\n",
        "        elif action == 3:\n",
        "            if self.y == 2:\n",
        "                self.y = self.y + 1\n",
        "            else:\n",
        "                self.y = self.y - 1\n",
        "        else:\n",
        "            RuntimeError('Error: action not recognized')\n",
        "\n",
        "        self.t = self.t + 1\n",
        "        reward = 0\n",
        "        if train:\n",
        "          reward = -self.malus_position[self.x, self.y]\n",
        "        self.malus_position[self.x, self.y] = 0.1\n",
        "        reward = reward + self.board[self.x, self.y]\n",
        "        self.board[self.x, self.y] = 0\n",
        "        game_over = self.t > self.max_time\n",
        "        \n",
        "        \n",
        "        state = np.concatenate((self.malus_position.reshape(self.grid_size, self.grid_size,1),\n",
        "                                self.board.reshape(self.grid_size, self.grid_size,1),\n",
        "                        self.position.reshape(self.grid_size, self.grid_size,1)),axis=2)\n",
        "        state = state[self.x-2:self.x+3,self.y-2:self.y+3,:]\n",
        "\n",
        "        return state, reward, game_over\n",
        "      \n",
        "    def reset(self):\n",
        "        \"\"\"This function resets the game and returns the initial state\"\"\"\n",
        "\n",
        "        self.x = np.random.randint(3, self.grid_size-3, size=1)[0]\n",
        "        self.y = np.random.randint(3, self.grid_size-3, size=1)[0]\n",
        "\n",
        "\n",
        "        bonus = 0.5*np.random.binomial(1,self.temperature,size=self.grid_size**2)\n",
        "        bonus = bonus.reshape(self.grid_size,self.grid_size)\n",
        "\n",
        "        malus = -1.0*np.random.binomial(1,self.temperature,size=self.grid_size**2)\n",
        "        malus = malus.reshape(self.grid_size, self.grid_size)\n",
        "\n",
        "        self.to_draw = np.zeros((self.max_time+2, self.grid_size*self.scale, self.grid_size*self.scale, 3))\n",
        "\n",
        "\n",
        "        malus[bonus>0]=0\n",
        "\n",
        "        self.board = bonus + malus\n",
        "        self.malus_position = 0*self.board\n",
        "\n",
        "        self.position = np.zeros((self.grid_size, self.grid_size))\n",
        "        self.position[0:2,:]= -1\n",
        "        self.position[:,0:2] = -1\n",
        "        self.position[-2:, :] = -1\n",
        "        self.position[:, -2:] = -1\n",
        "        self.board[self.x,self.y] = 0\n",
        "        self.t = 0\n",
        "        # Modify the state variable to include the malus map\n",
        "        state = np.concatenate((self.malus_position.reshape(self.grid_size, self.grid_size,1),\n",
        "                                self.board.reshape(self.grid_size, self.grid_size,1),\n",
        "                        self.position.reshape(self.grid_size, self.grid_size,1)),axis=2)\n",
        "       \n",
        "        \n",
        "        state = state[self.x - 2:self.x + 3, self.y - 2:self.y + 3, :]\n",
        "        return state\n",
        "    \n",
        " "
      ],
      "execution_count": 0,
      "outputs": []
    },
    {
      "metadata": {
        "id": "PeQ19jRB_27h",
        "colab_type": "code",
        "outputId": "f6f82ba2-6162-4626-8812-663f7c20a09d",
        "colab": {
          "base_uri": "https://localhost:8080/",
          "height": 1011
        }
      },
      "cell_type": "code",
      "source": [
        "# Training\n",
        "env = EnvironmentExploring(grid_size=size, max_time=T, temperature=0.3)\n",
        "agent = DQN_CNN(size, lr=.1, epsilon = 0.1, memory_size=2000, batch_size = 32,n_state=3)\n",
        "train_explore(agent, env, epochs_train, prefix='cnn_train_explore')\n",
        "HTML(display_videos('cnn_train_explore10.mp4'))"
      ],
      "execution_count": 46,
      "outputs": [
        {
          "output_type": "stream",
          "text": [
            "Epoch 000/050 | Loss 0.0127 | Win/lose count 4.5/30.10000000000009 (-25.60000000000009)\n",
            "Epoch 001/050 | Loss 0.0286 | Win/lose count 8.5/26.400000000000023 (-17.900000000000023)\n",
            "Epoch 002/050 | Loss 0.0078 | Win/lose count 4.0/18.7 (-14.7)\n",
            "Epoch 003/050 | Loss 0.0026 | Win/lose count 4.5/18.29999999999999 (-13.79999999999999)\n",
            "Epoch 004/050 | Loss 0.0113 | Win/lose count 13.5/17.799999999999972 (-4.299999999999972)\n",
            "Epoch 005/050 | Loss 0.0052 | Win/lose count 14.0/16.199999999999964 (-2.1999999999999638)\n",
            "Epoch 006/050 | Loss 0.0057 | Win/lose count 5.0/18.900000000000006 (-13.900000000000006)\n",
            "Epoch 007/050 | Loss 0.0053 | Win/lose count 10.5/16.09999999999996 (-5.599999999999959)\n",
            "Epoch 008/050 | Loss 0.0130 | Win/lose count 12.0/17.099999999999977 (-5.0999999999999766)\n",
            "Epoch 009/050 | Loss 0.0055 | Win/lose count 9.5/16.199999999999964 (-6.699999999999964)\n",
            "Epoch 010/050 | Loss 0.0079 | Win/lose count 12.5/15.499999999999961 (-2.999999999999961)\n",
            "Epoch 011/050 | Loss 0.0134 | Win/lose count 10.5/16.89999999999997 (-6.39999999999997)\n",
            "Epoch 012/050 | Loss 0.0061 | Win/lose count 5.5/17.59999999999998 (-12.09999999999998)\n",
            "Epoch 013/050 | Loss 0.0215 | Win/lose count 12.5/16.59999999999997 (-4.0999999999999694)\n",
            "Epoch 014/050 | Loss 0.0092 | Win/lose count 21.0/14.09999999999997 (6.9000000000000306)\n",
            "Epoch 015/050 | Loss 0.0185 | Win/lose count 11.0/16.199999999999964 (-5.199999999999964)\n",
            "Epoch 016/050 | Loss 0.0250 | Win/lose count 17.0/14.799999999999963 (2.2000000000000366)\n",
            "Epoch 017/050 | Loss 0.0363 | Win/lose count 24.0/10.799999999999978 (13.200000000000022)\n",
            "Epoch 018/050 | Loss 0.0083 | Win/lose count 27.0/9.799999999999981 (17.200000000000017)\n",
            "Epoch 019/050 | Loss 0.0061 | Win/lose count 10.5/14.899999999999963 (-4.399999999999963)\n",
            "Epoch 020/050 | Loss 0.0084 | Win/lose count 6.0/16.699999999999967 (-10.699999999999967)\n",
            "Epoch 021/050 | Loss 0.0040 | Win/lose count 19.0/13.299999999999969 (5.700000000000031)\n",
            "Epoch 022/050 | Loss 0.0129 | Win/lose count 16.5/15.899999999999961 (0.6000000000000387)\n",
            "Epoch 023/050 | Loss 0.0097 | Win/lose count 17.5/12.299999999999972 (5.200000000000028)\n",
            "Epoch 024/050 | Loss 0.0105 | Win/lose count 23.5/11.699999999999974 (11.800000000000026)\n",
            "Epoch 025/050 | Loss 0.0257 | Win/lose count 23.5/12.299999999999972 (11.200000000000028)\n",
            "Epoch 026/050 | Loss 0.0070 | Win/lose count 22.0/9.99999999999998 (12.00000000000002)\n",
            "Epoch 027/050 | Loss 0.0064 | Win/lose count 23.0/9.599999999999982 (13.400000000000018)\n",
            "Epoch 028/050 | Loss 0.0129 | Win/lose count 22.0/12.599999999999975 (9.400000000000025)\n",
            "Epoch 029/050 | Loss 0.0094 | Win/lose count 27.0/8.899999999999984 (18.100000000000016)\n",
            "Epoch 030/050 | Loss 0.0109 | Win/lose count 21.5/11.799999999999981 (9.700000000000019)\n",
            "Epoch 031/050 | Loss 0.0043 | Win/lose count 20.0/12.099999999999977 (7.9000000000000234)\n",
            "Epoch 032/050 | Loss 0.0245 | Win/lose count 24.0/9.099999999999984 (14.900000000000016)\n",
            "Epoch 033/050 | Loss 0.0055 | Win/lose count 24.5/9.899999999999984 (14.600000000000016)\n",
            "Epoch 034/050 | Loss 0.0064 | Win/lose count 22.0/10.799999999999981 (11.200000000000019)\n",
            "Epoch 035/050 | Loss 0.0297 | Win/lose count 23.0/9.699999999999982 (13.300000000000018)\n",
            "Epoch 036/050 | Loss 0.0091 | Win/lose count 21.5/10.09999999999998 (11.40000000000002)\n",
            "Epoch 037/050 | Loss 0.0207 | Win/lose count 24.0/9.699999999999983 (14.300000000000017)\n",
            "Epoch 038/050 | Loss 0.0145 | Win/lose count 29.0/12.09999999999998 (16.90000000000002)\n",
            "Epoch 039/050 | Loss 0.0132 | Win/lose count 23.5/9.99999999999998 (13.50000000000002)\n",
            "Epoch 040/050 | Loss 0.0230 | Win/lose count 23.0/11.699999999999976 (11.300000000000024)\n",
            "Epoch 041/050 | Loss 0.0140 | Win/lose count 23.5/15.999999999999977 (7.500000000000023)\n",
            "Epoch 042/050 | Loss 0.0258 | Win/lose count 22.0/16.699999999999985 (5.300000000000015)\n",
            "Epoch 043/050 | Loss 0.0176 | Win/lose count 21.0/15.599999999999971 (5.400000000000029)\n",
            "Epoch 044/050 | Loss 0.0129 | Win/lose count 26.5/12.399999999999983 (14.100000000000017)\n",
            "Epoch 045/050 | Loss 0.0176 | Win/lose count 21.5/13.999999999999968 (7.500000000000032)\n",
            "Epoch 046/050 | Loss 0.0170 | Win/lose count 23.0/13.29999999999997 (9.70000000000003)\n",
            "Epoch 047/050 | Loss 0.0210 | Win/lose count 26.0/8.799999999999986 (17.200000000000014)\n",
            "Epoch 048/050 | Loss 0.0144 | Win/lose count 22.0/14.999999999999973 (7.000000000000027)\n",
            "Epoch 049/050 | Loss 0.0247 | Win/lose count 25.5/12.799999999999974 (12.700000000000026)\n"
          ],
          "name": "stdout"
        },
        {
          "output_type": "execute_result",
          "data": {
            "text/html": [
              "<video alt=\"test\" controls>\n",
              "                <source src=\"data:video/mp4;base64,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\" type=\"video/mp4\" />\n",
              "             </video>"
            ],
            "text/plain": [
              "<IPython.core.display.HTML object>"
            ]
          },
          "metadata": {
            "tags": []
          },
          "execution_count": 46
        }
      ]
    },
    {
      "metadata": {
        "id": "G_738cdE_27y",
        "colab_type": "code",
        "outputId": "5c7bb7e3-622b-43b9-bf5f-038cf1361396",
        "colab": {
          "base_uri": "https://localhost:8080/",
          "height": 440
        }
      },
      "cell_type": "code",
      "source": [
        "# Evaluation\n",
        "test(agent,env,epochs_test,prefix='cnn_test_explore')\n",
        "HTML(display_videos('cnn_test_explore10.mp4'))"
      ],
      "execution_count": 47,
      "outputs": [
        {
          "output_type": "stream",
          "text": [
            "Win/lose count 10.0/0. Average score (10.0)\n",
            "Win/lose count 28.5/3.0. Average score (17.75)\n",
            "Win/lose count 21.0/5.0. Average score (17.166666666666668)\n",
            "Win/lose count 20.5/1.0. Average score (17.75)\n",
            "Win/lose count 18.0/6.0. Average score (16.6)\n",
            "Win/lose count 23.0/4.0. Average score (17.0)\n",
            "Win/lose count 16.0/2.0. Average score (16.571428571428573)\n",
            "Win/lose count 12.5/1.0. Average score (15.9375)\n",
            "Win/lose count 18.5/1.0. Average score (16.11111111111111)\n",
            "Win/lose count 17.0/1.0. Average score (16.1)\n",
            "Win/lose count 21.5/5.0. Average score (16.136363636363637)\n",
            "Win/lose count 21.5/2.0. Average score (16.416666666666668)\n",
            "Win/lose count 15.5/4.0. Average score (16.03846153846154)\n",
            "Win/lose count 19.5/4.0. Average score (16.0)\n",
            "Win/lose count 19.5/4.0. Average score (15.966666666666667)\n",
            "Final score: 15.966666666666667\n"
          ],
          "name": "stdout"
        },
        {
          "output_type": "execute_result",
          "data": {
            "text/html": [
              "<video alt=\"test\" controls>\n",
              "                <source src=\"data:video/mp4;base64,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\" type=\"video/mp4\" />\n",
              "             </video>"
            ],
            "text/plain": [
              "<IPython.core.display.HTML object>"
            ]
          },
          "metadata": {
            "tags": []
          },
          "execution_count": 47
        }
      ]
    },
    {
      "metadata": {
        "id": "g0KDyJIfHyac",
        "colab_type": "text"
      },
      "cell_type": "markdown",
      "source": [
        "This stategy has improved our result a lot, adding up to 10 points to the previous score( at T =0.3)"
      ]
    },
    {
      "metadata": {
        "id": "WCtJlV-k_28B",
        "colab_type": "text"
      },
      "cell_type": "markdown",
      "source": [
        "***\n",
        "***\n",
        "__BONUS question__ Use the expert DQN from the previous question to generate some winning games. Train a model that mimicks its behavior. Compare the performances."
      ]
    },
    {
      "metadata": {
        "id": "XPHcgZpP_28C",
        "colab_type": "text"
      },
      "cell_type": "markdown",
      "source": [
        ""
      ]
    },
    {
      "metadata": {
        "id": "gmPP2g_p_28E",
        "colab_type": "text"
      },
      "cell_type": "markdown",
      "source": [
        "***"
      ]
    }
  ]
}