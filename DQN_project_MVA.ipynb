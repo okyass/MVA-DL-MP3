{
  "nbformat": 4,
  "nbformat_minor": 0,
  "metadata": {
    "colab": {
      "name": "DQN_project_MVA.ipynb",
      "version": "0.3.2",
      "provenance": [],
      "collapsed_sections": [],
      "include_colab_link": true
    },
    "kernelspec": {
      "name": "python3",
      "display_name": "Python 3"
    },
    "accelerator": "TPU"
  },
  "cells": [
    {
      "cell_type": "markdown",
      "metadata": {
        "id": "view-in-github",
        "colab_type": "text"
      },
      "source": [
        "<a href=\"https://colab.research.google.com/github/okyass/MVA-DL-MP3/blob/master/DQN_project_MVA.ipynb\" target=\"_parent\"><img src=\"https://colab.research.google.com/assets/colab-badge.svg\" alt=\"Open In Colab\"/></a>"
      ]
    },
    {
      "metadata": {
        "id": "10uqvawn_25Z",
        "colab_type": "text"
      },
      "cell_type": "markdown",
      "source": [
        "**You may need to install [OpenCV](https://pypi.python.org/pypi/opencv-python) and [scikit-video](http://www.scikit-video.org/stable/).**"
      ]
    },
    {
      "metadata": {
        "id": "g_TGWmgB_25b",
        "colab_type": "code",
        "outputId": "f595b7e7-9e33-49d6-a275-685935845d2e",
        "colab": {
          "base_uri": "https://localhost:8080/",
          "height": 151
        }
      },
      "cell_type": "code",
      "source": [
        "!pip install scikit-video\n",
        "!pip install opencv-python\n",
        "import keras\n",
        "import numpy as np\n",
        "import io\n",
        "import base64\n",
        "from IPython.display import HTML\n",
        "import skvideo.io\n",
        "import cv2\n",
        "import json\n",
        "\n",
        "from keras.models import Sequential,model_from_json\n",
        "from keras.layers.core import Dense\n",
        "from keras.optimizers import sgd\n",
        "from keras.layers import Conv2D, MaxPooling2D, Activation, AveragePooling2D,Reshape,BatchNormalization,Flatten,Dropout"
      ],
      "execution_count": 1,
      "outputs": [
        {
          "output_type": "stream",
          "text": [
            "Requirement already satisfied: scikit-video in /usr/local/lib/python3.6/dist-packages (1.1.11)\n",
            "Requirement already satisfied: pillow in /usr/local/lib/python3.6/dist-packages (from scikit-video) (4.0.0)\n",
            "Requirement already satisfied: numpy in /usr/local/lib/python3.6/dist-packages (from scikit-video) (1.14.6)\n",
            "Requirement already satisfied: scipy in /usr/local/lib/python3.6/dist-packages (from scikit-video) (1.1.0)\n",
            "Requirement already satisfied: olefile in /usr/local/lib/python3.6/dist-packages (from pillow->scikit-video) (0.46)\n",
            "Requirement already satisfied: opencv-python in /usr/local/lib/python3.6/dist-packages (3.4.5.20)\n",
            "Requirement already satisfied: numpy>=1.11.3 in /usr/local/lib/python3.6/dist-packages (from opencv-python) (1.14.6)\n"
          ],
          "name": "stdout"
        },
        {
          "output_type": "stream",
          "text": [
            "Using TensorFlow backend.\n"
          ],
          "name": "stderr"
        }
      ]
    },
    {
      "metadata": {
        "id": "OA1mY-4w_25i",
        "colab_type": "text"
      },
      "cell_type": "markdown",
      "source": [
        "# MiniProject #3: Deep Reinforcement Learning"
      ]
    },
    {
      "metadata": {
        "id": "tORpMx9P_25k",
        "colab_type": "text"
      },
      "cell_type": "markdown",
      "source": [
        "__Notations__: $E_p$ is the expectation under probability $p$. Please justify each of your answer and widely comment your code."
      ]
    },
    {
      "metadata": {
        "id": "TDXmZgI4_25l",
        "colab_type": "text"
      },
      "cell_type": "markdown",
      "source": [
        "# Context"
      ]
    },
    {
      "metadata": {
        "id": "GYO3__kO_25m",
        "colab_type": "text"
      },
      "cell_type": "markdown",
      "source": [
        "In a reinforcement learning algorithm, we modelize each step $t$ as an action $a_t$ obtained from a state $s_t$, i.e. $\\{(a_{t},s_{t})_{t\\leq T}\\}$ having the Markov property. We consider a discount factor $\\gamma \\in [0,1]$ that ensures convergence. The goal is to find among all the policies $\\pi$, one that maximizes the expected reward:\n",
        "\n",
        "\\begin{equation*}\n",
        "R(\\pi)=\\sum_{t\\leq T}E_{p^{\\pi}}[\\gamma^t r(s_{t},a_{t})] \\> ,\n",
        "\\end{equation*}\n",
        "\n",
        "where: \n",
        "\\begin{equation*}p^{\\pi}(a_{0},a_{1},s_{1},...,a_{T},s_{T})=p(a_{0})\\prod_{t=1}^{T}\\pi(a_{t}|s_{t})p(s_{t+1}|s_{t},a_{t}) \\> .\n",
        "\\end{equation*}\n",
        "\n",
        "We note the $Q$-function:\n",
        "\n",
        "\\begin{equation*}Q^\\pi(s,a)=E_{p^{\\pi}}[\\sum_{t\\leq T}\\gamma^{t}r(s_{t},a_{t})|s_{0}=s,a_{0}=a] \\> .\n",
        "\\end{equation*}\n",
        "\n",
        "Thus, the optimal Q function is:\n",
        "\\begin{equation*}\n",
        "Q^*(s,a)=\\max_{\\pi}Q^\\pi(s,a) \\> .\n",
        "\\end{equation*}\n",
        "\n",
        "In this project, we will apply the deep reinforcement learning techniques to a simple game: an agent will have to learn from scratch a policy that will permit it maximizing a reward."
      ]
    },
    {
      "metadata": {
        "id": "BMM0ieZB_25o",
        "colab_type": "text"
      },
      "cell_type": "markdown",
      "source": [
        "## The environment, the agent and the game"
      ]
    },
    {
      "metadata": {
        "id": "wo4zCdV4_25p",
        "colab_type": "text"
      },
      "cell_type": "markdown",
      "source": [
        "### The environment"
      ]
    },
    {
      "metadata": {
        "id": "y6QvpgcL_25r",
        "colab_type": "text"
      },
      "cell_type": "markdown",
      "source": [
        "```Environment``` is an abstract class that represents the states, rewards, and actions to obtain the new state."
      ]
    },
    {
      "metadata": {
        "id": "It7RW2qT_25s",
        "colab_type": "code",
        "colab": {}
      },
      "cell_type": "code",
      "source": [
        "class Environment(object):\n",
        "    def __init__(self):\n",
        "        pass\n",
        "\n",
        "    def act(self, act):\n",
        "        \"\"\"\n",
        "        One can act on the environment and obtain its reaction:\n",
        "        - the new state\n",
        "        - the reward of the new state\n",
        "        - should we continue the game?\n",
        "\n",
        "        :return: state, reward, game_over\n",
        "        \"\"\"\n",
        "        pass\n",
        "\n",
        "\n",
        "    def reset(self):\n",
        "        \"\"\"\n",
        "        Reinitialize the environment to a random state and returns\n",
        "        the original state\n",
        "\n",
        "        :return: state\n",
        "        \"\"\"\n",
        "        pass\n",
        "    \n",
        "    def draw(self):\n",
        "        \"\"\"\n",
        "        Visualize in the console or graphically the current state\n",
        "        \"\"\"\n",
        "        pass"
      ],
      "execution_count": 0,
      "outputs": []
    },
    {
      "metadata": {
        "id": "0XW-Q3Fz_25w",
        "colab_type": "text"
      },
      "cell_type": "markdown",
      "source": [
        "The method ```act``` allows to act on the environment at a given state $s_t$ (stored internally), via action $a_t$. The method will return the new state $s_{t+1}$, the reward $r(s_{t},a_{t})$ and determines if $t\\leq T$ (*game_over*).\n",
        "\n",
        "The method ```reset``` simply reinitializes the environment to a random state $s_0$.\n",
        "\n",
        "The method ```draw``` displays the current state $s_t$ (this is useful to check the behavior of the Agent).\n",
        "\n",
        "We modelize $s_t$ as a tensor, while $a_t$ is an integer."
      ]
    },
    {
      "metadata": {
        "id": "UCKHJBbB_25y",
        "colab_type": "text"
      },
      "cell_type": "markdown",
      "source": [
        "### The Agent"
      ]
    },
    {
      "metadata": {
        "id": "jbOrMoRJ_250",
        "colab_type": "text"
      },
      "cell_type": "markdown",
      "source": [
        "The goal of the ```Agent``` is to interact with the ```Environment``` by proposing actions $a_t$ obtained from a given state $s_t$ to attempt to maximize its __reward__ $r(s_t,a_t)$. We propose the following abstract class:"
      ]
    },
    {
      "metadata": {
        "id": "2Crh9wna_252",
        "colab_type": "code",
        "colab": {}
      },
      "cell_type": "code",
      "source": [
        "class Agent(object):\n",
        "    def __init__(self, epsilon=0.1, n_action=4):\n",
        "        self.epsilon = epsilon\n",
        "        self.n_action = n_action\n",
        "    \n",
        "    def set_epsilon(self,e):\n",
        "        self.epsilon = e\n",
        "\n",
        "    def act(self,s,train=True):\n",
        "        \"\"\" This function should return the next action to do:\n",
        "        an integer between 0 and 4 (not included) with a random exploration of epsilon\"\"\"\n",
        "        if train:\n",
        "            if np.random.rand() <= self.epsilon:\n",
        "                a = np.random.randint(0, self.n_action, size=1)[0]\n",
        "            else:\n",
        "                a = self.learned_act(s)\n",
        "        else: # in some cases, this can improve the performance.. remove it if poor performances\n",
        "            a = self.learned_act(s)\n",
        "\n",
        "        return a\n",
        "\n",
        "    def learned_act(self,s):\n",
        "        \"\"\" Act via the policy of the agent, from a given state s\n",
        "        it proposes an action a\"\"\"\n",
        "        pass\n",
        "\n",
        "    def reinforce(self, s, n_s, a, r, game_over_):\n",
        "        \"\"\" This function is the core of the learning algorithm. \n",
        "        It takes as an input the current state s_, the next state n_s_\n",
        "        the action a_ used to move from s_ to n_s_ and the reward r_.\n",
        "        \n",
        "        Its goal is to learn a policy.\n",
        "        \"\"\"\n",
        "        pass\n",
        "\n",
        "    def save(self):\n",
        "        \"\"\" This function returns basic stats if applicable: the\n",
        "        loss and/or the model\"\"\"\n",
        "        pass\n",
        "\n",
        "    def load(self):\n",
        "        \"\"\" This function allows to restore a model\"\"\"\n",
        "        pass"
      ],
      "execution_count": 0,
      "outputs": []
    },
    {
      "metadata": {
        "id": "puJ7xZy1_258",
        "colab_type": "text"
      },
      "cell_type": "markdown",
      "source": [
        "***\n",
        "__Question 1__:\n",
        "Explain the function act. Why is ```epsilon``` essential?"
      ]
    },
    {
      "metadata": {
        "id": "nOTk9hPy_25_",
        "colab_type": "text"
      },
      "cell_type": "markdown",
      "source": [
        "The function act returns what action the agent will perform based on the current state.  The epsilon parameter allows to control the exploration. This is the $\\epsilon$-greedy strategy. The epsilon parameter is essential: If epsilon = 0, then we will follow the action based on what we have learned only ie the strategy with the best reward till now. Setting a non zero epsilon allows the agent to explore new strategies."
      ]
    },
    {
      "metadata": {
        "id": "WZsqMshd_26B",
        "colab_type": "text"
      },
      "cell_type": "markdown",
      "source": [
        "***\n",
        "### The Game"
      ]
    },
    {
      "metadata": {
        "id": "xh07a5S0_26D",
        "colab_type": "text"
      },
      "cell_type": "markdown",
      "source": [
        "The ```Agent``` and the ```Environment``` work in an interlaced way as in the following (take some time to understand this code as it is the core of the project)\n",
        "\n",
        "```python\n",
        "\n",
        "epoch = 300\n",
        "env = Environment()\n",
        "agent = Agent()\n",
        "\n",
        "\n",
        "# Number of won games\n",
        "score = 0\n",
        "loss = 0\n",
        "\n",
        "\n",
        "for e in range(epoch):\n",
        "    # At each epoch, we restart to a fresh game and get the initial state\n",
        "    state = env.reset()\n",
        "    # This assumes that the games will end\n",
        "    game_over = False\n",
        "\n",
        "    win = 0\n",
        "    lose = 0\n",
        "    \n",
        "    while not game_over:\n",
        "        # The agent performs an action\n",
        "        action = agent.act(state)\n",
        "\n",
        "        # Apply an action to the environment, get the next state, the reward\n",
        "        # and if the games end\n",
        "        prev_state = state\n",
        "        state, reward, game_over = env.act(action)\n",
        "\n",
        "        # Update the counters\n",
        "        if reward > 0:\n",
        "            win = win + reward\n",
        "        if reward < 0:\n",
        "            lose = lose -reward\n",
        "\n",
        "        # Apply the reinforcement strategy\n",
        "        loss = agent.reinforce(prev_state, state,  action, reward, game_over)\n",
        "\n",
        "    # Save as a mp4\n",
        "    if e % 10 == 0:\n",
        "        env.draw(e)\n",
        "\n",
        "    # Update stats\n",
        "    score += win-lose\n",
        "\n",
        "    print(\"Epoch {:03d}/{:03d} | Loss {:.4f} | Win/lose count {}/{} ({})\"\n",
        "          .format(e, epoch, loss, win, lose, win-lose))\n",
        "    agent.save()\n",
        "```"
      ]
    },
    {
      "metadata": {
        "id": "Yp_zaTQa_26G",
        "colab_type": "text"
      },
      "cell_type": "markdown",
      "source": [
        "# The game, *eat cheese*"
      ]
    },
    {
      "metadata": {
        "id": "7ROGp70__26I",
        "colab_type": "text"
      },
      "cell_type": "markdown",
      "source": [
        "A rat runs on an island and tries to eat as much as possible. The island is subdivided into $N\\times N$ cells, in which there are cheese (+0.5) and poisonous cells (-1). The rat has a visibility of 2 cells (thus it can see $5^2$ cells). The rat is given a time $T$ to accumulate as much food as possible. It can perform 4 actions: going up, down, left, right. \n",
        "\n",
        "The goal is to code an agent to solve this task that will learn by trial and error. We propose the following environment:"
      ]
    },
    {
      "metadata": {
        "id": "ZpsQnOsr_26K",
        "colab_type": "code",
        "colab": {}
      },
      "cell_type": "code",
      "source": [
        "class Environment(object):\n",
        "    def __init__(self, grid_size=10, max_time=500, temperature=0.1):\n",
        "        grid_size = grid_size+4\n",
        "        self.grid_size = grid_size\n",
        "        self.max_time = max_time\n",
        "        self.temperature = temperature\n",
        "\n",
        "        #board on which one plays\n",
        "        self.board = np.zeros((grid_size,grid_size))\n",
        "        self.position = np.zeros((grid_size,grid_size))\n",
        "\n",
        "        # coordinate of the cat\n",
        "        self.x = 0\n",
        "        self.y = 1\n",
        "\n",
        "        # self time\n",
        "        self.t = 0\n",
        "\n",
        "        self.scale=16\n",
        "\n",
        "        self.to_draw = np.zeros((max_time+2, grid_size*self.scale, grid_size*self.scale, 3))\n",
        "\n",
        "\n",
        "    def draw(self,e):\n",
        "        skvideo.io.vwrite(str(e) + '.mp4', self.to_draw)\n",
        "\n",
        "    def get_frame(self,t):\n",
        "        b = np.zeros((self.grid_size,self.grid_size,3))+128\n",
        "        b[self.board>0,0] = 256\n",
        "        b[self.board < 0, 2] = 256\n",
        "        b[self.x,self.y,:]=256\n",
        "        b[-2:,:,:]=0\n",
        "        b[:,-2:,:]=0\n",
        "        b[:2,:,:]=0\n",
        "        b[:,:2,:]=0\n",
        "        \n",
        "        b =  cv2.resize(b, None, fx=self.scale, fy=self.scale, interpolation=cv2.INTER_NEAREST)\n",
        "\n",
        "        self.to_draw[t,:,:,:]=b\n",
        "\n",
        "\n",
        "    def act(self, action):\n",
        "        \"\"\"This function returns the new state, reward and decides if the\n",
        "        game ends.\"\"\"\n",
        "\n",
        "        self.get_frame(int(self.t))\n",
        "\n",
        "        self.position = np.zeros((self.grid_size, self.grid_size))\n",
        "\n",
        "        self.position[0:2,:]= -1\n",
        "        self.position[:,0:2] = -1\n",
        "        self.position[-2:, :] = -1\n",
        "        self.position[-2:, :] = -1\n",
        "\n",
        "        self.position[self.x, self.y] = 1\n",
        "        if action == 0:\n",
        "            if self.x == self.grid_size-3:\n",
        "                self.x = self.x-1\n",
        "            else:\n",
        "                self.x = self.x + 1\n",
        "        elif action == 1:\n",
        "            if self.x == 2:\n",
        "                self.x = self.x+1\n",
        "            else:\n",
        "                self.x = self.x-1\n",
        "        elif action == 2:\n",
        "            if self.y == self.grid_size - 3:\n",
        "                self.y = self.y - 1\n",
        "            else:\n",
        "                self.y = self.y + 1\n",
        "        elif action == 3:\n",
        "            if self.y == 2:\n",
        "                self.y = self.y + 1\n",
        "            else:\n",
        "                self.y = self.y - 1\n",
        "        else:\n",
        "            RuntimeError('Error: action not recognized')\n",
        "\n",
        "        self.t = self.t + 1\n",
        "        reward = self.board[self.x, self.y]\n",
        "        self.board[self.x, self.y] = 0\n",
        "        game_over = self.t > self.max_time\n",
        "        state = np.concatenate((self.board.reshape(self.grid_size, self.grid_size,1),\n",
        "                        self.position.reshape(self.grid_size, self.grid_size,1)),axis=2)\n",
        "        state = state[self.x-2:self.x+3,self.y-2:self.y+3,:]\n",
        "\n",
        "        return state, reward, game_over\n",
        "\n",
        "    def reset(self):\n",
        "        \"\"\"This function resets the game and returns the initial state\"\"\"\n",
        "\n",
        "        self.x = np.random.randint(3, self.grid_size-3, size=1)[0]\n",
        "        self.y = np.random.randint(3, self.grid_size-3, size=1)[0]\n",
        "\n",
        "\n",
        "        bonus = 0.5*np.random.binomial(1,self.temperature,size=self.grid_size**2)\n",
        "        bonus = bonus.reshape(self.grid_size,self.grid_size)\n",
        "\n",
        "        malus = -1.0*np.random.binomial(1,self.temperature,size=self.grid_size**2)\n",
        "        malus = malus.reshape(self.grid_size, self.grid_size)\n",
        "\n",
        "        self.to_draw = np.zeros((self.max_time+2, self.grid_size*self.scale, self.grid_size*self.scale, 3))\n",
        "\n",
        "\n",
        "        malus[bonus>0]=0\n",
        "\n",
        "        self.board = bonus + malus\n",
        "\n",
        "        self.position = np.zeros((self.grid_size, self.grid_size))\n",
        "        self.position[0:2,:]= -1\n",
        "        self.position[:,0:2] = -1\n",
        "        self.position[-2:, :] = -1\n",
        "        self.position[-2:, :] = -1\n",
        "        self.board[self.x,self.y] = 0\n",
        "        self.t = 0\n",
        "\n",
        "        state = np.concatenate((\n",
        "                               self.board.reshape(self.grid_size, self.grid_size,1),\n",
        "                        self.position.reshape(self.grid_size, self.grid_size,1)),axis=2)\n",
        "\n",
        "        state = state[self.x - 2:self.x + 3, self.y - 2:self.y + 3, :]\n",
        "        return state"
      ],
      "execution_count": 0,
      "outputs": []
    },
    {
      "metadata": {
        "id": "4S1F_DtQ_26O",
        "colab_type": "text"
      },
      "cell_type": "markdown",
      "source": [
        "The following elements are important because they correspond to the hyper parameters for this project:"
      ]
    },
    {
      "metadata": {
        "id": "8wXnlSAh_26P",
        "colab_type": "code",
        "colab": {}
      },
      "cell_type": "code",
      "source": [
        "# parameters\n",
        "size = 13\n",
        "T=200\n",
        "temperature=0.3\n",
        "epochs_train=50 # set small when debugging\n",
        "epochs_test=15 # set small when debugging\n",
        "\n",
        "# display videos\n",
        "def display_videos(name):\n",
        "    video = io.open(name, 'r+b').read()\n",
        "    encoded = base64.b64encode(video)\n",
        "    return '''<video alt=\"test\" controls>\n",
        "                <source src=\"data:video/mp4;base64,{0}\" type=\"video/mp4\" />\n",
        "             </video>'''.format(encoded.decode('ascii'))"
      ],
      "execution_count": 0,
      "outputs": []
    },
    {
      "metadata": {
        "id": "euwMxuns_26U",
        "colab_type": "text"
      },
      "cell_type": "markdown",
      "source": [
        "__Question 2__ Explain the use of the arrays ```position``` and ```board```."
      ]
    },
    {
      "metadata": {
        "id": "dfVOKoMz_26V",
        "colab_type": "text"
      },
      "cell_type": "markdown",
      "source": [
        "The array position represents where the rat can go. It has -1 in the boundaries where the rat can't go, 0 where we can actually go and finally 1 in the position where the rat is. The array board represent the reward associated to each cell of the grid. "
      ]
    },
    {
      "metadata": {
        "id": "gjP5JV1H_26X",
        "colab_type": "text"
      },
      "cell_type": "markdown",
      "source": [
        "## Random Agent"
      ]
    },
    {
      "metadata": {
        "id": "JMgSzBeg_26Y",
        "colab_type": "text"
      },
      "cell_type": "markdown",
      "source": [
        "***\n",
        "__Question 3__ Implement a random Agent (only ```learned_act``` needs to be implemented):"
      ]
    },
    {
      "metadata": {
        "id": "SzSlmQ9B_26Z",
        "colab_type": "code",
        "colab": {}
      },
      "cell_type": "code",
      "source": [
        "class RandomAgent(Agent):\n",
        "    def __init__(self):\n",
        "        super(RandomAgent, self).__init__()\n",
        "\n",
        "    def learned_act(self, s):\n",
        "        return np.random.randint(0,self.n_action)"
      ],
      "execution_count": 0,
      "outputs": []
    },
    {
      "metadata": {
        "id": "67umTSZV_26c",
        "colab_type": "text"
      },
      "cell_type": "markdown",
      "source": [
        "***\n",
        "***\n",
        "__Question 4__ Visualize the game moves. You need to fill in the following function for the evaluation:"
      ]
    },
    {
      "metadata": {
        "id": "Smjfn7_B_26c",
        "colab_type": "code",
        "colab": {}
      },
      "cell_type": "code",
      "source": [
        "def test(agent,env,epochs,prefix=''):\n",
        "    # Number of won games\n",
        "    score = 0\n",
        "        \n",
        "    for e in range(epochs):\n",
        "        \n",
        "        ##### FILL IN HERE\n",
        "        state = env.reset()\n",
        "        # This assumes that the games will end\n",
        "        game_over = False\n",
        "\n",
        "        win = 0\n",
        "        lose = 0\n",
        "        \n",
        "        \n",
        "        while not game_over:\n",
        "            \n",
        "            action = agent.learned_act(state)\n",
        "            prev_state= state\n",
        "            state,reward,game_over = env.act(action)\n",
        "            if reward >0:\n",
        "                win = win +reward \n",
        "            if reward < 0:\n",
        "                lose = lose-reward\n",
        "        # Save as a mp4\n",
        "        env.draw(prefix+str(e))\n",
        "\n",
        "        # Update stats\n",
        "        score = score + win-lose\n",
        "\n",
        "        print(\"Win/lose count {}/{}. Average score ({})\"\n",
        "              .format(win, lose, score/(1+e)))\n",
        "    print('Final score: '+str(score/epochs))"
      ],
      "execution_count": 0,
      "outputs": []
    },
    {
      "metadata": {
        "id": "VdjxNOof_26f",
        "colab_type": "code",
        "outputId": "293e5c9e-0803-47c7-a479-46125a37b810",
        "colab": {
          "base_uri": "https://localhost:8080/",
          "height": 440
        }
      },
      "cell_type": "code",
      "source": [
        "# Initialize the game\n",
        "env = Environment(grid_size=size, max_time=T,temperature=temperature)\n",
        "\n",
        "# Initialize the agent!\n",
        "agent = RandomAgent()\n",
        "\n",
        "test(agent,env,epochs_test,prefix='random')\n",
        "HTML(display_videos('random0.mp4'))"
      ],
      "execution_count": 8,
      "outputs": [
        {
          "output_type": "stream",
          "text": [
            "Win/lose count 6.5/16.0. Average score (-9.5)\n",
            "Win/lose count 7.0/8.0. Average score (-5.25)\n",
            "Win/lose count 7.0/24.0. Average score (-9.166666666666666)\n",
            "Win/lose count 9.0/16.0. Average score (-8.625)\n",
            "Win/lose count 5.5/9.0. Average score (-7.6)\n",
            "Win/lose count 8.0/15.0. Average score (-7.5)\n",
            "Win/lose count 11.0/16.0. Average score (-7.142857142857143)\n",
            "Win/lose count 9.0/10.0. Average score (-6.375)\n",
            "Win/lose count 14.0/13.0. Average score (-5.555555555555555)\n",
            "Win/lose count 9.0/23.0. Average score (-6.4)\n",
            "Win/lose count 9.0/14.0. Average score (-6.2727272727272725)\n",
            "Win/lose count 6.5/9.0. Average score (-5.958333333333333)\n",
            "Win/lose count 6.5/8.0. Average score (-5.615384615384615)\n",
            "Win/lose count 12.0/18.0. Average score (-5.642857142857143)\n",
            "Win/lose count 11.5/18.0. Average score (-5.7)\n",
            "Final score: -5.7\n"
          ],
          "name": "stdout"
        },
        {
          "output_type": "execute_result",
          "data": {
            "text/html": [
              "<video alt=\"test\" controls>\n",
              "                <source src=\"data:video/mp4;base64,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\" type=\"video/mp4\" />\n",
              "             </video>"
            ],
            "text/plain": [
              "<IPython.core.display.HTML object>"
            ]
          },
          "metadata": {
            "tags": []
          },
          "execution_count": 8
        }
      ]
    },
    {
      "metadata": {
        "id": "I_wF413u_26k",
        "colab_type": "text"
      },
      "cell_type": "markdown",
      "source": [
        "***\n",
        "## DQN"
      ]
    },
    {
      "metadata": {
        "id": "hesyofHP_26l",
        "colab_type": "text"
      },
      "cell_type": "markdown",
      "source": [
        "Let us assume here that $T=\\infty$.\n",
        "\n",
        "***\n",
        "__Question 5__ Let $\\pi$ be a policy, show that:\n",
        "\n",
        "\\begin{equation*}\n",
        "Q^{\\pi}(s,a)=E_{(s',a')\\sim p(.|s,a)}[r(s,a)+\\gamma Q^{\\pi}(s',a')]\n",
        "\\end{equation*}\n",
        "\n",
        "Then, show that for the optimal policy $\\pi^*$ (we assume its existence), the following holds: \n",
        "\n",
        "\\begin{equation*}\n",
        "Q^{*}(s,a)=E_{s'\\sim \\pi^*(.|s,a)}[r(s,a)+\\gamma\\max_{a'}Q^{*}(s',a')].\n",
        "\\end{equation*}\n",
        "Finally, deduce that a plausible objective is:\n",
        "\n",
        "\\begin{equation*}\n",
        "\\mathcal{L}(\\theta)=E_{s' \\sim \\pi^*(.|s,a)}\\Vert r+\\gamma\\max\\max_{a'}Q(s',a',\\theta)-Q(s,a,\\theta)\\Vert^{2}.\n",
        "\\end{equation*}\n",
        "\n",
        "\n"
      ]
    },
    {
      "metadata": {
        "id": "9eMdWhIy_26m",
        "colab_type": "text"
      },
      "cell_type": "markdown",
      "source": [
        "For a policy $\\pi$, a state $s$ and an action $a$ :\n",
        "\n",
        "$$\\begin{align*}\n",
        "Q^{\\pi}(s,a) &= E_{p^{\\pi}}\\left[\\sum_{t\\leq T}\\gamma^{t}r(s_{t},a_{t})|s_{0}=s,a_{0}=a\\right]  \\\\\n",
        "&= r(s,a) + \\gamma \\sum_{s'}E_{p^{\\pi}}\\left[\\sum_{t= 1}^{T}\\gamma^{t-1}r(s_{t},a_{t})\\mathbb{1}_{\\{s_{1} = s'\\}}|s_{0}=s,a_{0}=a\\right] \\\\\n",
        "&=  r(s,a) + \\gamma \\sum_{s'}\\mathbb{P}(s'|s,a)E_{p^{\\pi}}\\left[\\sum_{t= 1}^{T}\\gamma^{t-1}r(s_{t},a_{t}) | s_{1}=s'\\right] \\\\\n",
        " & = r(s,a) + \\gamma \\sum_{s',a'}\\mathbb{P}(s'|s,a)\\pi(a'|s')E_{p^{\\pi}}\\left[\\sum_{t= 1}^{T}\\gamma^{t-1}r(s_{t},a_{t}) | s_{1}=s',a_{1}=a'\\right] \\\\\n",
        "&=  r(s,a) + \\gamma \\mathbb{E}_{(s',a')\\sim (\\mathbb{P}(.|s,a),\\pi(.|s'))}(Q^{\\pi}(s',a')) \\\\\n",
        "\\end{align*}$$\n",
        "\n",
        "The optimal $Q$-function is: $Q^*(s,a)=\\max_{\\pi}Q^\\pi(s,a)$. This is equivalent to maximizing the second term with respect to $a^\\prime$.\n",
        "Then: \n",
        "$Q^*(s,a)= r(s,a) + \\gamma E_{(s^\\prime, a^\\prime)\\sim p^{\\pi^*}(.|s,a)} [\\max_{a^\\prime}Q^*(s^\\prime,a^\\prime)]$.\n",
        "\n",
        "The proposed objective function allows to enforce the equality. If our neural network perfectly converge, it must bewith this optimal function. Using this loss function we try to force our learned Q-value to verify the Bellman equation."
      ]
    },
    {
      "metadata": {
        "id": "J475rZS3_26o",
        "colab_type": "text"
      },
      "cell_type": "markdown",
      "source": [
        "***\n",
        "The DQN-learning algorithm relies on these derivations to train the parameters $\\theta$ of a Deep Neural Network:\n",
        "\n",
        "1. At the state $s_t$, select the action $a_t$ with best reward using $Q_t$ and store the results;\n",
        "\n",
        "2. Obtain the new state $s_{t+1}$ from the environment $p$;\n",
        "\n",
        "3. Store $(s_t,a_t,s_{t+1})$;\n",
        "\n",
        "4. Obtain $Q_{t+1}$ by minimizing  $\\mathcal{L}$ from a recovered batch from the previously stored results.\n",
        "\n",
        "***\n",
        "__Question 6__ Implement the class ```Memory``` that stores moves (in a replay buffer) via ```remember``` and provides a ```random_access``` to these. Specify a maximum memory size to avoid side effects. You can for example use a ```list()``` and set by default ```max_memory=100```."
      ]
    },
    {
      "metadata": {
        "id": "zPcctX2-_26p",
        "colab_type": "code",
        "colab": {}
      },
      "cell_type": "code",
      "source": [
        "class Memory(object):\n",
        "    def __init__(self, max_memory=100):\n",
        "        self.max_memory = max_memory\n",
        "        self.memory = list()\n",
        "\n",
        "    def remember(self, m):\n",
        "        self.memory.append(m)\n",
        "        if len(self.memory)>= self.max_memory:\n",
        "            del self.memory[0]\n",
        "\n",
        "    def random_access(self):\n",
        "        i = np.random.randint(0,len(self.memory))\n",
        "        return self.memory[i]"
      ],
      "execution_count": 0,
      "outputs": []
    },
    {
      "metadata": {
        "id": "vrdK0Ryj_26v",
        "colab_type": "text"
      },
      "cell_type": "markdown",
      "source": [
        "***\n",
        "The pipeline we will use for training is given below:"
      ]
    },
    {
      "metadata": {
        "id": "2hQqOcCS_26w",
        "colab_type": "code",
        "colab": {}
      },
      "cell_type": "code",
      "source": [
        "def train(agent,env,epoch,prefix=''):\n",
        "    # Number of won games\n",
        "    score = 0\n",
        "    loss = 0\n",
        "\n",
        "    for e in range(epoch):\n",
        "        # At each epoch, we restart to a fresh game and get the initial state\n",
        "        state = env.reset()\n",
        "        # This assumes that the games will terminate\n",
        "        game_over = False\n",
        "\n",
        "        win = 0\n",
        "        lose = 0\n",
        "\n",
        "        while not game_over:\n",
        "            # The agent performs an action\n",
        "            action = agent.act(state)\n",
        "\n",
        "            # Apply an action to the environment, get the next state, the reward\n",
        "            # and if the games end\n",
        "            prev_state = state\n",
        "            state, reward, game_over = env.act(action)\n",
        "\n",
        "            # Update the counters\n",
        "            if reward > 0:\n",
        "                win = win + reward\n",
        "            if reward < 0:\n",
        "                lose = lose -reward\n",
        "\n",
        "            # Apply the reinforcement strategy\n",
        "            loss = agent.reinforce(prev_state, state,  action, reward, game_over)\n",
        "\n",
        "        # Save as a mp4\n",
        "        if e % 10 == 0:\n",
        "            env.draw(prefix+str(e))\n",
        "\n",
        "        # Update stats\n",
        "        score += win-lose\n",
        "\n",
        "        print(\"Epoch {:03d}/{:03d} | Loss {:.4f} | Win/lose count {}/{} ({})\"\n",
        "              .format(e, epoch, loss, win, lose, win-lose))\n",
        "        agent.save(name_weights=prefix+'model.h5',name_model=prefix+'model.json')"
      ],
      "execution_count": 0,
      "outputs": []
    },
    {
      "metadata": {
        "id": "_JJX5jtv_26z",
        "colab_type": "text"
      },
      "cell_type": "markdown",
      "source": [
        "***\n",
        "__Question 7__ Implement the DQN training algorithm using a cascade of fully connected layers. You can use different learning rate, batch size or memory size parameters. In particular, the loss might oscillate while the player will start to win the games. You have to find a good criterium."
      ]
    },
    {
      "metadata": {
        "id": "urbethrU_260",
        "colab_type": "code",
        "colab": {}
      },
      "cell_type": "code",
      "source": [
        "class DQN(Agent):\n",
        "    def __init__(self, grid_size,  epsilon = 0.1, memory_size=100, batch_size = 16,n_state=2):\n",
        "        super(DQN, self).__init__(epsilon = epsilon)\n",
        "\n",
        "        # Discount for Q learning\n",
        "        self.discount = 0.99\n",
        "        \n",
        "        self.grid_size = grid_size\n",
        "        \n",
        "        # number of state\n",
        "        self.n_state = n_state\n",
        "\n",
        "        # Memory\n",
        "        self.memory = Memory(memory_size)\n",
        "        \n",
        "        # Batch size when learning\n",
        "        self.batch_size = batch_size\n",
        "\n",
        "    def learned_act(self, s):\n",
        "      #Returns an action based on the greedy policy with respect to the learned Q-function\n",
        "        pred = self.model.predict(s[None])\n",
        "        return np.argmax(pred)\n",
        "\n",
        "    def reinforce(self, s_, n_s_, a_, r_, game_over_):\n",
        "        # Two steps: first memorize the states, second learn from the pool\n",
        "        \n",
        "        self.memory.remember([s_, n_s_, a_, r_, game_over_])\n",
        "        \n",
        "        input_states = np.zeros((self.batch_size, 5,5,self.n_state))\n",
        "        target_q = np.zeros((self.batch_size, 4))\n",
        "        \n",
        "        for i in range(self.batch_size):\n",
        "            \n",
        "            s, n_s, a, r, game_over = self.memory.random_access()\n",
        "            target_q[i] = self.model.predict(s[None,:])\n",
        "           \n",
        "            \n",
        "            # Replace the value of the q-function only for the action played\n",
        "            # and set the value of the other actions to the value predicted by the network at the previous\n",
        "            # step\n",
        "          \n",
        "            if game_over:\n",
        "                \n",
        "                target_q[i][a] = r\n",
        "                \n",
        "            else:\n",
        "                \n",
        "                target_q[i][a] = r + self.discount*max((self.model.predict(n_s[None,:]))[0])\n",
        "            \n",
        "            \n",
        "            input_states[i,:] = s \n",
        "                \n",
        "        \n",
        "        # HINT: Clip the target to avoid exploiding gradients.. -- clipping is a bit tighter\n",
        "        target_q = np.clip(target_q, -3, 3)\n",
        "\n",
        "        l = self.model.train_on_batch(input_states, target_q)\n",
        "\n",
        "        return l\n",
        "\n",
        "    def save(self,name_weights='model.h5',name_model='model.json'):\n",
        "        self.model.save_weights(name_weights, overwrite=True)\n",
        "        with open(name_model, \"w\") as outfile:\n",
        "            json.dump(self.model.to_json(), outfile)\n",
        "            \n",
        "    def load(self,name_weights='model.h5',name_model='model.json'):\n",
        "        with open(name_model, \"r\") as jfile:\n",
        "            model = model_from_json(json.load(jfile))\n",
        "        model.load_weights(name_weights)\n",
        "        model.compile(\"sgd\", \"mse\")\n",
        "        self.model = model\n",
        "\n",
        "            \n",
        "class DQN_FC(DQN):\n",
        "    def __init__(self, *args, lr=0.1,**kwargs):\n",
        "        super(DQN_FC, self).__init__( *args,**kwargs)\n",
        "                \n",
        "        # NN Model\n",
        "       \n",
        "        model = Sequential()\n",
        "        model.add(Flatten(input_shape = (5,5,self.n_state)))\n",
        "        model.add(Dense(32,activation  = 'relu'))\n",
        "        model.add(Dense(4))\n",
        "        \n",
        "        model.compile(sgd(lr=lr, decay=1e-4, momentum=0.0), \"mse\")\n",
        "        self.model = model"
      ],
      "execution_count": 0,
      "outputs": []
    },
    {
      "metadata": {
        "id": "r6pru8FX_262",
        "colab_type": "code",
        "outputId": "bf4476fb-5f42-4d4a-ca9d-05028efac39b",
        "colab": {
          "base_uri": "https://localhost:8080/",
          "height": 1132
        }
      },
      "cell_type": "code",
      "source": [
        "#epochs_train = 50\n",
        "env = Environment(grid_size=size, max_time=T, temperature=0.3)\n",
        "agent = DQN_FC(size, lr=.1, epsilon = 0.1, memory_size=2000, batch_size = 32)\n",
        "train(agent, env, epochs_train, prefix='fc_train')\n",
        "HTML(display_videos('fc_train10.mp4'))"
      ],
      "execution_count": 12,
      "outputs": [
        {
          "output_type": "stream",
          "text": [
            "WARNING:tensorflow:From /usr/local/lib/python3.6/dist-packages/tensorflow/python/framework/op_def_library.py:263: colocate_with (from tensorflow.python.framework.ops) is deprecated and will be removed in a future version.\n",
            "Instructions for updating:\n",
            "Colocations handled automatically by placer.\n",
            "WARNING:tensorflow:From /usr/local/lib/python3.6/dist-packages/tensorflow/python/ops/math_ops.py:3066: to_int32 (from tensorflow.python.ops.math_ops) is deprecated and will be removed in a future version.\n",
            "Instructions for updating:\n",
            "Use tf.cast instead.\n",
            "Epoch 000/050 | Loss 0.0187 | Win/lose count 2.5/7.0 (-4.5)\n",
            "Epoch 001/050 | Loss 0.0162 | Win/lose count 1.5/1.0 (0.5)\n",
            "Epoch 002/050 | Loss 0.0139 | Win/lose count 1.5/3.0 (-1.5)\n",
            "Epoch 003/050 | Loss 0.0044 | Win/lose count 5.0/2.0 (3.0)\n",
            "Epoch 004/050 | Loss 0.0366 | Win/lose count 3.5/5.0 (-1.5)\n",
            "Epoch 005/050 | Loss 0.0537 | Win/lose count 2.5/4.0 (-1.5)\n",
            "Epoch 006/050 | Loss 0.0350 | Win/lose count 3.0/2.0 (1.0)\n",
            "Epoch 007/050 | Loss 0.0059 | Win/lose count 6.5/3.0 (3.5)\n",
            "Epoch 008/050 | Loss 0.0420 | Win/lose count 1.5/1.0 (0.5)\n",
            "Epoch 009/050 | Loss 0.0069 | Win/lose count 5.0/4.0 (1.0)\n",
            "Epoch 010/050 | Loss 0.0080 | Win/lose count 3.5/2.0 (1.5)\n",
            "Epoch 011/050 | Loss 0.0414 | Win/lose count 4.5/1.0 (3.5)\n",
            "Epoch 012/050 | Loss 0.0010 | Win/lose count 1.5/1.0 (0.5)\n",
            "Epoch 013/050 | Loss 0.0100 | Win/lose count 1.0/3.0 (-2.0)\n",
            "Epoch 014/050 | Loss 0.0081 | Win/lose count 4.5/2.0 (2.5)\n",
            "Epoch 015/050 | Loss 0.0574 | Win/lose count 4.0/4.0 (0.0)\n",
            "Epoch 016/050 | Loss 0.0056 | Win/lose count 2.5/5.0 (-2.5)\n",
            "Epoch 017/050 | Loss 0.0073 | Win/lose count 4.5/1.0 (3.5)\n",
            "Epoch 018/050 | Loss 0.0032 | Win/lose count 3.0/1.0 (2.0)\n",
            "Epoch 019/050 | Loss 0.0114 | Win/lose count 4.0/7.0 (-3.0)\n",
            "Epoch 020/050 | Loss 0.0499 | Win/lose count 3.0/3.0 (0.0)\n",
            "Epoch 021/050 | Loss 0.0022 | Win/lose count 3.0/4.0 (-1.0)\n",
            "Epoch 022/050 | Loss 0.0128 | Win/lose count 3.0/4.0 (-1.0)\n",
            "Epoch 023/050 | Loss 0.0094 | Win/lose count 5.5/5.0 (0.5)\n",
            "Epoch 024/050 | Loss 0.0112 | Win/lose count 6.0/2.0 (4.0)\n",
            "Epoch 025/050 | Loss 0.0018 | Win/lose count 7.0/5.0 (2.0)\n",
            "Epoch 026/050 | Loss 0.0059 | Win/lose count 4.5/3.0 (1.5)\n",
            "Epoch 027/050 | Loss 0.0043 | Win/lose count 5.0/4.0 (1.0)\n",
            "Epoch 028/050 | Loss 0.0038 | Win/lose count 3.0/4.0 (-1.0)\n",
            "Epoch 029/050 | Loss 0.0047 | Win/lose count 5.5/5.0 (0.5)\n",
            "Epoch 030/050 | Loss 0.0072 | Win/lose count 1.5/1.0 (0.5)\n",
            "Epoch 031/050 | Loss 0.0087 | Win/lose count 4.0/8.0 (-4.0)\n",
            "Epoch 032/050 | Loss 0.0112 | Win/lose count 6.0/1.0 (5.0)\n",
            "Epoch 033/050 | Loss 0.0018 | Win/lose count 3.0/4.0 (-1.0)\n",
            "Epoch 034/050 | Loss 0.0049 | Win/lose count 4.5/1.0 (3.5)\n",
            "Epoch 035/050 | Loss 0.0035 | Win/lose count 14.5/4.0 (10.5)\n",
            "Epoch 036/050 | Loss 0.0049 | Win/lose count 6.0/4.0 (2.0)\n",
            "Epoch 037/050 | Loss 0.0016 | Win/lose count 3.5/1.0 (2.5)\n",
            "Epoch 038/050 | Loss 0.0055 | Win/lose count 3.5/1.0 (2.5)\n",
            "Epoch 039/050 | Loss 0.0074 | Win/lose count 14.0/6.0 (8.0)\n",
            "Epoch 040/050 | Loss 0.0048 | Win/lose count 6.0/2.0 (4.0)\n",
            "Epoch 041/050 | Loss 0.0046 | Win/lose count 9.0/4.0 (5.0)\n",
            "Epoch 042/050 | Loss 0.0054 | Win/lose count 6.5/2.0 (4.5)\n",
            "Epoch 043/050 | Loss 0.0034 | Win/lose count 5.5/0 (5.5)\n",
            "Epoch 044/050 | Loss 0.0035 | Win/lose count 9.0/0 (9.0)\n",
            "Epoch 045/050 | Loss 0.0067 | Win/lose count 6.0/2.0 (4.0)\n",
            "Epoch 046/050 | Loss 0.0034 | Win/lose count 7.5/3.0 (4.5)\n",
            "Epoch 047/050 | Loss 0.0025 | Win/lose count 8.5/3.0 (5.5)\n",
            "Epoch 048/050 | Loss 0.0029 | Win/lose count 4.5/4.0 (0.5)\n",
            "Epoch 049/050 | Loss 0.0054 | Win/lose count 8.5/1.0 (7.5)\n"
          ],
          "name": "stdout"
        },
        {
          "output_type": "execute_result",
          "data": {
            "text/html": [
              "<video alt=\"test\" controls>\n",
              "                <source src=\"data:video/mp4;base64,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\" type=\"video/mp4\" />\n",
              "             </video>"
            ],
            "text/plain": [
              "<IPython.core.display.HTML object>"
            ]
          },
          "metadata": {
            "tags": []
          },
          "execution_count": 12
        }
      ]
    },
    {
      "metadata": {
        "id": "ICL7bchM_264",
        "colab_type": "text"
      },
      "cell_type": "markdown",
      "source": [
        "***\n",
        "***\n",
        "__Question 8__ Implement the DQN training algorithm using a CNN (for example, 2 convolutional layers and one final fully connected layer)."
      ]
    },
    {
      "metadata": {
        "id": "Hp9ASDy3_265",
        "colab_type": "code",
        "colab": {}
      },
      "cell_type": "code",
      "source": [
        "class DQN_CNN(DQN):\n",
        "    def __init__(self, *args,lr=0.1,**kwargs):\n",
        "        super(DQN_CNN, self).__init__(*args,**kwargs)\n",
        "        \n",
        "        model = Sequential()\n",
        "        model.add(Conv2D(32,kernel_size = (2,2), activation = 'relu',input_shape = (5,5,self.n_state)))\n",
        "        model.add(Conv2D(32,kernel_size = (2,2), activation = 'relu'))\n",
        "        model.add(Flatten())\n",
        "        model.add(Dense(4))\n",
        "        \n",
        "        model.compile(sgd(lr=lr, decay=1e-4, momentum=0.0), \"mse\")\n",
        "        self.model = model"
      ],
      "execution_count": 0,
      "outputs": []
    },
    {
      "metadata": {
        "id": "UonquNSC_268",
        "colab_type": "code",
        "outputId": "f6c2ed9e-ce14-4fea-ac1f-23bd43f76e13",
        "colab": {
          "base_uri": "https://localhost:8080/",
          "height": 1011
        }
      },
      "cell_type": "code",
      "source": [
        "env = Environment(grid_size=size, max_time=T, temperature=0.3)\n",
        "agent = DQN_CNN(size, lr=.1, epsilon = 0.1, memory_size=2000, batch_size = 32)\n",
        "train(agent,env,epochs_train,prefix='cnn_train')\n",
        "HTML(display_videos('cnn_train10.mp4'))"
      ],
      "execution_count": 14,
      "outputs": [
        {
          "output_type": "stream",
          "text": [
            "Epoch 000/050 | Loss 0.0024 | Win/lose count 2.0/7.0 (-5.0)\n",
            "Epoch 001/050 | Loss 0.0005 | Win/lose count 1.5/0 (1.5)\n",
            "Epoch 002/050 | Loss 0.0053 | Win/lose count 2.5/5.0 (-2.5)\n",
            "Epoch 003/050 | Loss 0.0032 | Win/lose count 5.0/4.0 (1.0)\n",
            "Epoch 004/050 | Loss 0.0041 | Win/lose count 5.0/2.0 (3.0)\n",
            "Epoch 005/050 | Loss 0.0884 | Win/lose count 4.0/5.0 (-1.0)\n",
            "Epoch 006/050 | Loss 0.0019 | Win/lose count 7.5/2.0 (5.5)\n",
            "Epoch 007/050 | Loss 0.0056 | Win/lose count 2.0/1.0 (1.0)\n",
            "Epoch 008/050 | Loss 0.0016 | Win/lose count 2.0/5.0 (-3.0)\n",
            "Epoch 009/050 | Loss 0.0020 | Win/lose count 6.5/2.0 (4.5)\n",
            "Epoch 010/050 | Loss 0.0025 | Win/lose count 6.0/4.0 (2.0)\n",
            "Epoch 011/050 | Loss 0.0038 | Win/lose count 5.5/2.0 (3.5)\n",
            "Epoch 012/050 | Loss 0.0030 | Win/lose count 6.0/4.0 (2.0)\n",
            "Epoch 013/050 | Loss 0.0610 | Win/lose count 8.5/4.0 (4.5)\n",
            "Epoch 014/050 | Loss 0.0061 | Win/lose count 6.5/1.0 (5.5)\n",
            "Epoch 015/050 | Loss 0.0024 | Win/lose count 5.0/2.0 (3.0)\n",
            "Epoch 016/050 | Loss 0.0031 | Win/lose count 1.5/5.0 (-3.5)\n",
            "Epoch 017/050 | Loss 0.0048 | Win/lose count 7.5/2.0 (5.5)\n",
            "Epoch 018/050 | Loss 0.0022 | Win/lose count 5.0/3.0 (2.0)\n",
            "Epoch 019/050 | Loss 0.0028 | Win/lose count 11.0/5.0 (6.0)\n",
            "Epoch 020/050 | Loss 0.0013 | Win/lose count 11.5/0 (11.5)\n",
            "Epoch 021/050 | Loss 0.0020 | Win/lose count 8.0/2.0 (6.0)\n",
            "Epoch 022/050 | Loss 0.0058 | Win/lose count 16.0/5.0 (11.0)\n",
            "Epoch 023/050 | Loss 0.0050 | Win/lose count 11.5/4.0 (7.5)\n",
            "Epoch 024/050 | Loss 0.0480 | Win/lose count 17.5/4.0 (13.5)\n",
            "Epoch 025/050 | Loss 0.0016 | Win/lose count 3.0/1.0 (2.0)\n",
            "Epoch 026/050 | Loss 0.0079 | Win/lose count 10.0/2.0 (8.0)\n",
            "Epoch 027/050 | Loss 0.0574 | Win/lose count 11.5/3.0 (8.5)\n",
            "Epoch 028/050 | Loss 0.0027 | Win/lose count 19.5/4.0 (15.5)\n",
            "Epoch 029/050 | Loss 0.0025 | Win/lose count 3.5/1.0 (2.5)\n",
            "Epoch 030/050 | Loss 0.0031 | Win/lose count 5.0/1.0 (4.0)\n",
            "Epoch 031/050 | Loss 0.0018 | Win/lose count 16.5/4.0 (12.5)\n",
            "Epoch 032/050 | Loss 0.0033 | Win/lose count 9.5/2.0 (7.5)\n",
            "Epoch 033/050 | Loss 0.0015 | Win/lose count 16.5/2.0 (14.5)\n",
            "Epoch 034/050 | Loss 0.0054 | Win/lose count 20.5/3.0 (17.5)\n",
            "Epoch 035/050 | Loss 0.0010 | Win/lose count 18.5/8.0 (10.5)\n",
            "Epoch 036/050 | Loss 0.0539 | Win/lose count 20.5/3.0 (17.5)\n",
            "Epoch 037/050 | Loss 0.0020 | Win/lose count 16.5/3.0 (13.5)\n",
            "Epoch 038/050 | Loss 0.0567 | Win/lose count 9.5/4.0 (5.5)\n",
            "Epoch 039/050 | Loss 0.0046 | Win/lose count 17.0/1.0 (16.0)\n",
            "Epoch 040/050 | Loss 0.0088 | Win/lose count 18.0/4.0 (14.0)\n",
            "Epoch 041/050 | Loss 0.0032 | Win/lose count 14.5/3.0 (11.5)\n",
            "Epoch 042/050 | Loss 0.0043 | Win/lose count 11.5/5.0 (6.5)\n",
            "Epoch 043/050 | Loss 0.0018 | Win/lose count 20.0/4.0 (16.0)\n",
            "Epoch 044/050 | Loss 0.0022 | Win/lose count 9.0/5.0 (4.0)\n",
            "Epoch 045/050 | Loss 0.0034 | Win/lose count 12.0/0 (12.0)\n",
            "Epoch 046/050 | Loss 0.0028 | Win/lose count 23.5/3.0 (20.5)\n",
            "Epoch 047/050 | Loss 0.0036 | Win/lose count 6.5/7.0 (-0.5)\n",
            "Epoch 048/050 | Loss 0.0026 | Win/lose count 18.5/2.0 (16.5)\n",
            "Epoch 049/050 | Loss 0.0039 | Win/lose count 19.0/4.0 (15.0)\n"
          ],
          "name": "stdout"
        },
        {
          "output_type": "execute_result",
          "data": {
            "text/html": [
              "<video alt=\"test\" controls>\n",
              "                <source src=\"data:video/mp4;base64,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\" type=\"video/mp4\" />\n",
              "             </video>"
            ],
            "text/plain": [
              "<IPython.core.display.HTML object>"
            ]
          },
          "metadata": {
            "tags": []
          },
          "execution_count": 14
        }
      ]
    },
    {
      "metadata": {
        "id": "i9GyGEhI_26-",
        "colab_type": "text"
      },
      "cell_type": "markdown",
      "source": [
        "***\n",
        "***\n",
        "__Question 9__ Test both algorithms and compare their performances. Which issue(s) do you observe? Observe also different behaviors by changing the temperature."
      ]
    },
    {
      "metadata": {
        "id": "vN7d864q_26_",
        "colab_type": "code",
        "outputId": "20fe0d42-4a6d-4c7b-efad-c838374ce0c1",
        "colab": {
          "base_uri": "https://localhost:8080/",
          "height": 588
        }
      },
      "cell_type": "code",
      "source": [
        "env = Environment(grid_size=size, max_time=T,temperature=0.3)\n",
        "agent_cnn = DQN_CNN(size, lr=.1, epsilon = 0.1, memory_size=2000, batch_size = 32)\n",
        "agent_cnn.load(name_weights='cnn_trainmodel.h5',name_model='cnn_trainmodel.json')\n",
        "\n",
        "agent_fc = DQN_FC(size, lr=.1, epsilon = 0.1, memory_size=2000, batch_size = 32)\n",
        "agent_fc.load(name_weights='fc_trainmodel.h5',name_model='fc_trainmodel.json')\n",
        "print('Test of the CNN')\n",
        "test(agent_cnn,env,epochs_test,prefix='cnn_test')\n",
        "print('Test of the FC')\n",
        "test(agent_fc,env,epochs_test,prefix='fc_test')"
      ],
      "execution_count": 15,
      "outputs": [
        {
          "output_type": "stream",
          "text": [
            "Test of the CNN\n",
            "Win/lose count 0.5/0. Average score (0.5)\n",
            "Win/lose count 13.5/0. Average score (7.0)\n",
            "Win/lose count 2.5/0. Average score (5.5)\n",
            "Win/lose count 3.5/0. Average score (5.0)\n",
            "Win/lose count 9.5/1.0. Average score (5.7)\n",
            "Win/lose count 0.5/0. Average score (4.833333333333333)\n",
            "Win/lose count 1.5/0. Average score (4.357142857142857)\n",
            "Win/lose count 3.5/0. Average score (4.25)\n",
            "Win/lose count 1.5/0. Average score (3.9444444444444446)\n",
            "Win/lose count 5.0/0. Average score (4.05)\n",
            "Win/lose count 4.0/0. Average score (4.045454545454546)\n",
            "Win/lose count 2.5/0. Average score (3.9166666666666665)\n",
            "Win/lose count 14.0/0. Average score (4.6923076923076925)\n",
            "Win/lose count 4.5/0. Average score (4.678571428571429)\n",
            "Win/lose count 5.5/0. Average score (4.733333333333333)\n",
            "Final score: 4.733333333333333\n",
            "Test of the FC\n",
            "Win/lose count 3.5/0. Average score (3.5)\n",
            "Win/lose count 3.5/0. Average score (3.5)\n",
            "Win/lose count 1.0/0. Average score (2.6666666666666665)\n",
            "Win/lose count 6.0/0. Average score (3.5)\n",
            "Win/lose count 1.0/0. Average score (3.0)\n",
            "Win/lose count 4.0/0. Average score (3.1666666666666665)\n",
            "Win/lose count 2.0/0. Average score (3.0)\n",
            "Win/lose count 5.0/0. Average score (3.25)\n",
            "Win/lose count 3.5/0. Average score (3.2777777777777777)\n",
            "Win/lose count 1.0/0. Average score (3.05)\n",
            "Win/lose count 2.0/0. Average score (2.9545454545454546)\n",
            "Win/lose count 4.5/0. Average score (3.0833333333333335)\n",
            "Win/lose count 3.5/0. Average score (3.1153846153846154)\n",
            "Win/lose count 2.0/0. Average score (3.0357142857142856)\n",
            "Win/lose count 3.0/0. Average score (3.033333333333333)\n",
            "Final score: 3.033333333333333\n"
          ],
          "name": "stdout"
        }
      ]
    },
    {
      "metadata": {
        "id": "GqL6z408_27C",
        "colab_type": "code",
        "outputId": "8af7b921-9389-4a8b-bd7f-17fd649abab3",
        "colab": {
          "base_uri": "https://localhost:8080/",
          "height": 293
        }
      },
      "cell_type": "code",
      "source": [
        "HTML(display_videos('cnn_test10.mp4'))"
      ],
      "execution_count": 16,
      "outputs": [
        {
          "output_type": "execute_result",
          "data": {
            "text/html": [
              "<video alt=\"test\" controls>\n",
              "                <source src=\"data:video/mp4;base64,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\" type=\"video/mp4\" />\n",
              "             </video>"
            ],
            "text/plain": [
              "<IPython.core.display.HTML object>"
            ]
          },
          "metadata": {
            "tags": []
          },
          "execution_count": 16
        }
      ]
    },
    {
      "metadata": {
        "id": "mzzXfOxV_27R",
        "colab_type": "code",
        "outputId": "bfd07bc1-ce8d-4488-f22d-b6e620b07d6f",
        "colab": {
          "base_uri": "https://localhost:8080/",
          "height": 293
        }
      },
      "cell_type": "code",
      "source": [
        "HTML(display_videos('fc_test10.mp4'))"
      ],
      "execution_count": 17,
      "outputs": [
        {
          "output_type": "execute_result",
          "data": {
            "text/html": [
              "<video alt=\"test\" controls>\n",
              "                <source src=\"data:video/mp4;base64,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\" type=\"video/mp4\" />\n",
              "             </video>"
            ],
            "text/plain": [
              "<IPython.core.display.HTML object>"
            ]
          },
          "metadata": {
            "tags": []
          },
          "execution_count": 17
        }
      ]
    },
    {
      "metadata": {
        "id": "KXLfdgxN_27W",
        "colab_type": "text"
      },
      "cell_type": "markdown",
      "source": [
        "The performance using the architecture based on CNN is better than the one obtained using some fully connected networks because of overfitting. The gap is increased with the temperature.\n",
        "\n",
        "The main issue that we can observe is that the algorithms tends to not explore enough the map. The agent seems to be blocked in a local optima. This does not decrease the score but does not help to improve it. Even when the temperature is higher, this problem remains."
      ]
    },
    {
      "metadata": {
        "id": "-YaXfU7c_27Y",
        "colab_type": "text"
      },
      "cell_type": "markdown",
      "source": [
        "***\n",
        "\n",
        "The algorithm tends to not explore the map which can be an issue. We propose two ideas in order to encourage exploration:\n",
        "1. Incorporating a decreasing $\\epsilon$-greedy exploration. You can use the method ```set_epsilon```\n",
        "2. Append via the environment a new state that describes if a cell has been visited or not\n",
        "\n",
        "***\n",
        "__Question 10__ Design a new ```train_explore``` function and environment class ```EnvironmentExploring``` to tackle the issue of exploration.\n",
        "\n"
      ]
    },
    {
      "metadata": {
        "id": "auUsspxj_27Z",
        "colab_type": "code",
        "colab": {}
      },
      "cell_type": "code",
      "source": [
        "def train_explore(agent,env,epoch,prefix=''):\n",
        "    score = 0\n",
        "    loss = 0\n",
        "\n",
        "    for e in range(epoch):\n",
        "      \n",
        "        state = env.reset()\n",
        "        game_over = False\n",
        "\n",
        "        win = 0\n",
        "        lose = 0\n",
        "        agent.set_epsilon(agent.epsilon*0.90)\n",
        "        while not game_over:\n",
        "         \n",
        "            action = agent.act(state)\n",
        "\n",
        "            \n",
        "            prev_state = state\n",
        "            state, reward, game_over = env.act(action, train=True)\n",
        "\n",
        "            \n",
        "            if reward > 0:\n",
        "                win = win + reward\n",
        "            if reward < 0:\n",
        "                lose = lose -reward\n",
        "\n",
        "            \n",
        "            loss = agent.reinforce(prev_state, state,  action, reward, game_over)\n",
        "            \n",
        "      \n",
        "        if e % 10 == 0:\n",
        "          env.draw(prefix+str(e))\n",
        "\n",
        "       \n",
        "        score += win-lose\n",
        "\n",
        "        print(\"Epoch {:03d}/{:03d} | Loss {:.4f} | Win/lose count {}/{} ({})\"\n",
        "              .format(e, epoch, loss, win, lose, win-lose))\n",
        "        agent.save(name_weights=prefix+'model.h5',name_model=prefix+'model.json')\n",
        "class EnvironmentExploring(object):\n",
        "    def __init__(self, grid_size=10, max_time=500, temperature=0.1):\n",
        "        grid_size = grid_size+4\n",
        "        self.grid_size = grid_size\n",
        "        self.max_time = max_time\n",
        "        self.temperature = temperature\n",
        "\n",
        "        \n",
        "        self.board = np.zeros((grid_size,grid_size))\n",
        "        self.position = np.zeros((grid_size,grid_size))\n",
        "        self.malus_position = np.zeros((grid_size,grid_size)) \n",
        "        self.x = 0\n",
        "        self.y = 1\n",
        "\n",
        "        \n",
        "        self.t = 0\n",
        "\n",
        "        self.scale=16\n",
        "\n",
        "        self.to_draw = np.zeros((max_time+2, grid_size*self.scale, grid_size*self.scale, 3))\n",
        "\n",
        "\n",
        "    def draw(self,e):\n",
        "        skvideo.io.vwrite(str(e) + '.mp4', self.to_draw)\n",
        "        \n",
        "        \n",
        "    def get_frame(self,t):\n",
        "        b = np.zeros((self.grid_size,self.grid_size,3))+128\n",
        "        b[self.board>0,0] = 256\n",
        "        b[self.board < 0, 2] = 256\n",
        "        b[self.x,self.y,:]=256\n",
        "        b[-2:,:,:]=0\n",
        "        b[:,-2:,:]=0\n",
        "        b[:2,:,:]=0\n",
        "        b[:,:2,:]=0\n",
        "        \n",
        "        b =  cv2.resize(b, None, fx=self.scale, fy=self.scale, interpolation=cv2.INTER_NEAREST)\n",
        "\n",
        "        self.to_draw[t,:,:,:]=b\n",
        "    def act(self, action,train = False):\n",
        "        \n",
        "\n",
        "        self.get_frame(int(self.t))\n",
        "\n",
        "        self.position = np.zeros((self.grid_size, self.grid_size))\n",
        "\n",
        "        self.position[0:2,:]= -1\n",
        "        self.position[:,0:2] = -1\n",
        "        self.position[-2:, :] = -1\n",
        "        self.position[:,-2:] = -1\n",
        "\n",
        "        self.position[self.x, self.y] = 1\n",
        "        if action == 0:\n",
        "            if self.x == self.grid_size-3:\n",
        "                self.x = self.x-1\n",
        "            else:\n",
        "                self.x = self.x + 1\n",
        "        elif action == 1:\n",
        "            if self.x == 2:\n",
        "                self.x = self.x+1\n",
        "            else:\n",
        "                self.x = self.x-1\n",
        "        elif action == 2:\n",
        "            if self.y == self.grid_size - 3:\n",
        "                self.y = self.y - 1\n",
        "            else:\n",
        "                self.y = self.y + 1\n",
        "        elif action == 3:\n",
        "            if self.y == 2:\n",
        "                self.y = self.y + 1\n",
        "            else:\n",
        "                self.y = self.y - 1\n",
        "        else:\n",
        "            RuntimeError('Error: action not recognized')\n",
        "\n",
        "        self.t = self.t + 1\n",
        "        reward = 0\n",
        "        if train:\n",
        "          reward = -self.malus_position[self.x, self.y]\n",
        "        self.malus_position[self.x, self.y] = 0.1\n",
        "        reward = reward + self.board[self.x, self.y]\n",
        "        self.board[self.x, self.y] = 0\n",
        "        game_over = self.t > self.max_time\n",
        "        \n",
        "        \n",
        "        state = np.concatenate((self.malus_position.reshape(self.grid_size, self.grid_size,1),\n",
        "                                self.board.reshape(self.grid_size, self.grid_size,1),\n",
        "                        self.position.reshape(self.grid_size, self.grid_size,1)),axis=2)\n",
        "        state = state[self.x-2:self.x+3,self.y-2:self.y+3,:]\n",
        "\n",
        "        return state, reward, game_over\n",
        "      \n",
        "    def reset(self):\n",
        "        \"\"\"This function resets the game and returns the initial state\"\"\"\n",
        "\n",
        "        self.x = np.random.randint(3, self.grid_size-3, size=1)[0]\n",
        "        self.y = np.random.randint(3, self.grid_size-3, size=1)[0]\n",
        "\n",
        "\n",
        "        bonus = 0.5*np.random.binomial(1,self.temperature,size=self.grid_size**2)\n",
        "        bonus = bonus.reshape(self.grid_size,self.grid_size)\n",
        "\n",
        "        malus = -1.0*np.random.binomial(1,self.temperature,size=self.grid_size**2)\n",
        "        malus = malus.reshape(self.grid_size, self.grid_size)\n",
        "\n",
        "        self.to_draw = np.zeros((self.max_time+2, self.grid_size*self.scale, self.grid_size*self.scale, 3))\n",
        "\n",
        "\n",
        "        malus[bonus>0]=0\n",
        "\n",
        "        self.board = bonus + malus\n",
        "        self.malus_position = 0*self.board\n",
        "\n",
        "        self.position = np.zeros((self.grid_size, self.grid_size))\n",
        "        self.position[0:2,:]= -1\n",
        "        self.position[:,0:2] = -1\n",
        "        self.position[-2:, :] = -1\n",
        "        self.position[:, -2:] = -1\n",
        "        self.board[self.x,self.y] = 0\n",
        "        self.t = 0\n",
        "        # Modify the state variable to include the malus map\n",
        "        state = np.concatenate((self.malus_position.reshape(self.grid_size, self.grid_size,1),\n",
        "                                self.board.reshape(self.grid_size, self.grid_size,1),\n",
        "                        self.position.reshape(self.grid_size, self.grid_size,1)),axis=2)\n",
        "       \n",
        "        \n",
        "        state = state[self.x - 2:self.x + 3, self.y - 2:self.y + 3, :]\n",
        "        return state\n",
        "    \n",
        " "
      ],
      "execution_count": 0,
      "outputs": []
    },
    {
      "metadata": {
        "id": "PeQ19jRB_27h",
        "colab_type": "code",
        "outputId": "a2cd8719-4e1f-4152-ae5c-b8d5465ffd82",
        "colab": {
          "base_uri": "https://localhost:8080/",
          "height": 185
        }
      },
      "cell_type": "code",
      "source": [
        "# Training\n",
        "env = EnvironmentExploring(grid_size=size, max_time=T, temperature=0.3)\n",
        "agent = DQN_CNN(size, lr=.1, epsilon = 0.1, memory_size=2000, batch_size = 32,n_state=3)\n",
        "train_explore(agent, env, epochs_train, prefix='cnn_train_explore')\n",
        "HTML(display_videos('cnn_train_explore10.mp4'))"
      ],
      "execution_count": 0,
      "outputs": [
        {
          "output_type": "stream",
          "text": [
            "Epoch 000/050 | Loss 0.0090 | Win/lose count 10.5/21.100000000000026 (-10.600000000000026)\n",
            "Epoch 001/050 | Loss 0.0089 | Win/lose count 5.0/24.400000000000038 (-19.400000000000038)\n",
            "Epoch 002/050 | Loss 0.0078 | Win/lose count 9.5/20.700000000000017 (-11.200000000000017)\n",
            "Epoch 003/050 | Loss 0.0091 | Win/lose count 6.0/19.500000000000014 (-13.500000000000014)\n",
            "Epoch 004/050 | Loss 0.0064 | Win/lose count 12.5/18.199999999999996 (-5.699999999999996)\n",
            "Epoch 005/050 | Loss 0.0076 | Win/lose count 8.0/18.19999999999999 (-10.199999999999989)\n",
            "Epoch 006/050 | Loss 0.0030 | Win/lose count 7.5/17.399999999999977 (-9.899999999999977)\n",
            "Epoch 007/050 | Loss 0.0063 | Win/lose count 3.5/20.200000000000024 (-16.700000000000024)\n",
            "Epoch 008/050 | Loss 0.0128 | Win/lose count 13.0/15.099999999999962 (-2.0999999999999623)\n",
            "Epoch 009/050 | Loss 0.0030 | Win/lose count 0.5/21.20000000000004 (-20.70000000000004)\n"
          ],
          "name": "stdout"
        }
      ]
    },
    {
      "metadata": {
        "id": "G_738cdE_27y",
        "colab_type": "code",
        "colab": {}
      },
      "cell_type": "code",
      "source": [
        "# Evaluation\n",
        "test(agent,env,epochs_test,prefix='cnn_test_explore')\n",
        "HTML(display_videos('cnn_test_explore10.mp4'))"
      ],
      "execution_count": 0,
      "outputs": []
    },
    {
      "metadata": {
        "id": "g0KDyJIfHyac",
        "colab_type": "text"
      },
      "cell_type": "markdown",
      "source": [
        "This stategy has improved our result a lot, adding up to 10 points to the previous score( at T =0.3)"
      ]
    },
    {
      "metadata": {
        "id": "WCtJlV-k_28B",
        "colab_type": "text"
      },
      "cell_type": "markdown",
      "source": [
        "***\n",
        "***\n",
        "__BONUS question__ Use the expert DQN from the previous question to generate some winning games. Train a model that mimicks its behavior. Compare the performances."
      ]
    },
    {
      "metadata": {
        "id": "XPHcgZpP_28C",
        "colab_type": "text"
      },
      "cell_type": "markdown",
      "source": [
        ""
      ]
    },
    {
      "metadata": {
        "id": "gmPP2g_p_28E",
        "colab_type": "text"
      },
      "cell_type": "markdown",
      "source": [
        "***"
      ]
    }
  ]
}